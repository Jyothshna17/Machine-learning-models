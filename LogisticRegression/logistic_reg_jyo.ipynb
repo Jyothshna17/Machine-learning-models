{
  "nbformat": 4,
  "nbformat_minor": 0,
  "metadata": {
    "colab": {
      "name": "logstic_regression_jyo.ipynb",
      "private_outputs": true,
      "provenance": [],
      "collapsed_sections": []
    },
    "kernelspec": {
      "name": "python3",
      "display_name": "Python 3"
    },
    "language_info": {
      "name": "python"
    }
  },
  "cells": [
    {
      "cell_type": "markdown",
      "source": [
        "Name :- Jyothshna Epanagandla\n",
        "\n",
        "\n",
        "student id:- 11489606"
      ],
      "metadata": {
        "id": "vSE5pWd2JE2E"
      }
    },
    {
      "cell_type": "code",
      "execution_count": null,
      "metadata": {
        "id": "K8XqefLeRCBN"
      },
      "outputs": [],
      "source": [
        "# importing required packages\n",
        "import pandas as pd\n",
        "import numpy as np"
      ]
    },
    {
      "cell_type": "code",
      "source": [
        "# import the csv file\n",
        "dataframe_wine = pd.read_csv(\"winequality-red.csv\")"
      ],
      "metadata": {
        "id": "OmL1jkBCRMjG"
      },
      "execution_count": null,
      "outputs": []
    },
    {
      "cell_type": "code",
      "source": [
        "dataframe_wine"
      ],
      "metadata": {
        "id": "J42EW4eLRXgT"
      },
      "execution_count": null,
      "outputs": []
    },
    {
      "cell_type": "code",
      "source": [
        "dataframe_wine_col=dataframe_wine[\"quality\"].value_counts()\n",
        "dataframe_wine_col"
      ],
      "metadata": {
        "id": "XeReVi_QRaxR"
      },
      "execution_count": null,
      "outputs": []
    },
    {
      "cell_type": "code",
      "source": [
        "dataframe_wine.describe()"
      ],
      "metadata": {
        "id": "X-c1x4gQReyG"
      },
      "execution_count": null,
      "outputs": []
    },
    {
      "cell_type": "code",
      "source": [
        "dataframe_wine.info()"
      ],
      "metadata": {
        "id": "Un1Mt1KhRiyb"
      },
      "execution_count": null,
      "outputs": []
    },
    {
      "cell_type": "code",
      "source": [
        "dataframe_wine.isnull().sum(axis=0)"
      ],
      "metadata": {
        "id": "Jfz7pF8sRmze"
      },
      "execution_count": null,
      "outputs": []
    },
    {
      "cell_type": "code",
      "source": [
        "dataframe_wine[\"Quality of Wine\"]=np.select(([(dataframe_wine[\"quality\"]<=6),(dataframe_wine[\"quality\"]>6)]),([0,1]))\n",
        "dataframe_wine"
      ],
      "metadata": {
        "id": "CIAls_FqR_aL"
      },
      "execution_count": null,
      "outputs": []
    },
    {
      "cell_type": "code",
      "source": [
        "dataframe_wine_col=dataframe_wine[\"Quality of Wine\"].value_counts()\n",
        "dataframe_wine_col"
      ],
      "metadata": {
        "id": "kKwd3Ll2c0r6"
      },
      "execution_count": null,
      "outputs": []
    },
    {
      "cell_type": "code",
      "source": [
        "dataframe_wine=dataframe_wine.drop('quality', axis=1)"
      ],
      "metadata": {
        "id": "YHtX-A-LT5E4"
      },
      "execution_count": null,
      "outputs": []
    },
    {
      "cell_type": "code",
      "source": [
        "dataframe_wine.info()"
      ],
      "metadata": {
        "id": "0KHZvquJT61A"
      },
      "execution_count": null,
      "outputs": []
    },
    {
      "cell_type": "code",
      "source": [
        "dataframe_wine.corr"
      ],
      "metadata": {
        "id": "ert67tfLT84l"
      },
      "execution_count": null,
      "outputs": []
    },
    {
      "cell_type": "code",
      "source": [
        "import seaborn as sns\n",
        "import matplotlib.pyplot as plt \n",
        "\n",
        "dataframe_wine_copy = dataframe_wine.copy()\n",
        "\n",
        "dataframe_wine = pd.DataFrame(dataframe_wine_copy,columns=dataframe_wine.columns)\n",
        "\n",
        "corr_Matrix = dataframe_wine.corr()\n",
        "sns.heatmap(corr_Matrix, annot=True)\n",
        "plt.show()"
      ],
      "metadata": {
        "id": "ss2T19SfUS0d"
      },
      "execution_count": null,
      "outputs": []
    },
    {
      "cell_type": "code",
      "source": [
        "header = dataframe_wine.columns.tolist()\n",
        "sns_plot = sns.pairplot(dataframe_wine)"
      ],
      "metadata": {
        "id": "THji-t9kWDYV"
      },
      "execution_count": null,
      "outputs": []
    },
    {
      "cell_type": "code",
      "source": [
        "dataframe_wine.columns"
      ],
      "metadata": {
        "id": "n3hKGU_eWS5m"
      },
      "execution_count": null,
      "outputs": []
    },
    {
      "cell_type": "code",
      "source": [
        "from sklearn.model_selection import train_test_split\n",
        "\n",
        "X = dataframe_wine.drop('Quality of Wine', axis=1)\n",
        "y =dataframe_wine['Quality of Wine']\n",
        "\n",
        "X_train, X_test, y_train, y_test = train_test_split(X, y,test_size=0.2,random_state=123)"
      ],
      "metadata": {
        "id": "0RPC5FI0Y0_x"
      },
      "execution_count": null,
      "outputs": []
    },
    {
      "cell_type": "code",
      "source": [
        "print(\"The X_train data shape : \",X_train.shape)\n",
        "print(\"The X_test data shape : \",X_test.shape)\n",
        "print(\"The y_train data shape :  \",y_train.shape)\n",
        "print(\"The y_test data shape : \",y_test.shape)"
      ],
      "metadata": {
        "id": "IkNHX74HOuTm"
      },
      "execution_count": null,
      "outputs": []
    },
    {
      "cell_type": "code",
      "source": [
        "from sklearn.linear_model import LogisticRegression\n",
        "from sklearn.model_selection import cross_validate\n",
        "\n",
        "logistic_reg = LogisticRegression(max_iter = 10000,C = 80,multi_class = 'multinomial')\n",
        "\n",
        "logistic_reg.fit(X_train, y_train)\n",
        "y_pred = logistic_reg.predict(X_test)\n",
        "\n",
        "print(\"y_predict :- \", y_pred)\n",
        "\n"
      ],
      "metadata": {
        "id": "m7eo5NXtZU-U"
      },
      "execution_count": null,
      "outputs": []
    },
    {
      "cell_type": "code",
      "source": [
        "cross_val_result = cross_validate(logistic_reg,X, y,cv=5)\n",
        "print(\"cross_val_result :- \\n\",cross_val_result)"
      ],
      "metadata": {
        "id": "5qSsOv0G1TwJ"
      },
      "execution_count": null,
      "outputs": []
    },
    {
      "cell_type": "code",
      "source": [
        "from sklearn.metrics import accuracy_score\n",
        "accuracy=accuracy_score(y_pred, y_test)\n",
        "print(accuracy)"
      ],
      "metadata": {
        "id": "LDFv4ytgy5yD"
      },
      "execution_count": null,
      "outputs": []
    },
    {
      "cell_type": "code",
      "source": [
        "from sklearn.metrics import classification_report\n",
        "print(\"The Classification report for the test data and the predicted data : /n\",classification_report(y_test, y_pred))"
      ],
      "metadata": {
        "id": "Ps0v8iDr71vG"
      },
      "execution_count": null,
      "outputs": []
    },
    {
      "cell_type": "code",
      "source": [
        "\n",
        "from sklearn.metrics import confusion_matrix\n",
        "print(\"Confusion Matrix of the test data and the predicted data :- \",confusion_matrix(y_test, y_pred))\n"
      ],
      "metadata": {
        "id": "RSQONbQkaTce"
      },
      "execution_count": null,
      "outputs": []
    },
    {
      "cell_type": "code",
      "source": [
        "from sklearn.metrics import accuracy_score\n",
        "print(\"The Accuracy Score fo the test data and the predicted data :- \",accuracy_score(y_test, y_pred))\n"
      ],
      "metadata": {
        "id": "fSIT_tm_8-XC"
      },
      "execution_count": null,
      "outputs": []
    },
    {
      "cell_type": "code",
      "source": [
        "\n",
        "from sklearn.metrics import recall_score\n",
        "print(\"The Recall Score for the test data and the predicted data :- \",recall_score(y_test, y_pred))\n",
        "\n"
      ],
      "metadata": {
        "id": "8sRoBXxD9AEJ"
      },
      "execution_count": null,
      "outputs": []
    },
    {
      "cell_type": "code",
      "source": [
        "from sklearn.metrics import precision_score\n",
        "print(\"The Precision Score the test data and the predicted data :- \",precision_score(y_test, y_pred))"
      ],
      "metadata": {
        "id": "hew4P7Ol9BmJ"
      },
      "execution_count": null,
      "outputs": []
    },
    {
      "cell_type": "code",
      "source": [
        ""
      ],
      "metadata": {
        "id": "ZGyiVI5b9CGL"
      },
      "execution_count": null,
      "outputs": []
    }
  ]
}