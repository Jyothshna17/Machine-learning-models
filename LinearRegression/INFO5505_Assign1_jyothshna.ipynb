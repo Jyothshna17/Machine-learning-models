{
  "cells": [
    {
      "cell_type": "markdown",
      "id": "5b0de0ca",
      "metadata": {
        "id": "5b0de0ca"
      },
      "source": [
        "# Jyothshna Epanagandla"
      ]
    },
    {
      "cell_type": "markdown",
      "id": "2a3e317d",
      "metadata": {
        "id": "2a3e317d"
      },
      "source": [
        "# Unt ID : 11489606                               "
      ]
    },
    {
      "cell_type": "code",
      "execution_count": 3,
      "id": "14411b2f",
      "metadata": {
        "id": "14411b2f"
      },
      "outputs": [],
      "source": [
        "# Importing required python packages\n",
        "import numpy as np\n",
        "import pandas as pd\n",
        "import matplotlib.pyplot as plt\n",
        "import seaborn as sns"
      ]
    },
    {
      "cell_type": "code",
      "execution_count": 4,
      "id": "ad971845",
      "metadata": {
        "id": "ad971845"
      },
      "outputs": [],
      "source": [
        "# Importing given data set\n",
        "# By using pandas packages creating dataframe by imported dataset\n",
        "df=pd.read_csv(\"monet.csv\")"
      ]
    },
    {
      "cell_type": "code",
      "execution_count": 5,
      "id": "e5916669",
      "metadata": {
        "colab": {
          "base_uri": "https://localhost:8080/",
          "height": 206
        },
        "id": "e5916669",
        "outputId": "1628e2c3-d1ec-402d-d35f-d4b3aed95ad9"
      },
      "outputs": [
        {
          "output_type": "execute_result",
          "data": {
            "text/html": [
              "\n",
              "  <div id=\"df-95fc55f1-9c01-4a28-b9c8-56efb7b9fc32\">\n",
              "    <div class=\"colab-df-container\">\n",
              "      <div>\n",
              "<style scoped>\n",
              "    .dataframe tbody tr th:only-of-type {\n",
              "        vertical-align: middle;\n",
              "    }\n",
              "\n",
              "    .dataframe tbody tr th {\n",
              "        vertical-align: top;\n",
              "    }\n",
              "\n",
              "    .dataframe thead th {\n",
              "        text-align: right;\n",
              "    }\n",
              "</style>\n",
              "<table border=\"1\" class=\"dataframe\">\n",
              "  <thead>\n",
              "    <tr style=\"text-align: right;\">\n",
              "      <th></th>\n",
              "      <th>PRICE</th>\n",
              "      <th>HEIGHT</th>\n",
              "      <th>WIDTH</th>\n",
              "      <th>SIGNED</th>\n",
              "      <th>PICTURE</th>\n",
              "      <th>HOUSE</th>\n",
              "    </tr>\n",
              "  </thead>\n",
              "  <tbody>\n",
              "    <tr>\n",
              "      <th>0</th>\n",
              "      <td>3.993780</td>\n",
              "      <td>21.3</td>\n",
              "      <td>25.6</td>\n",
              "      <td>1</td>\n",
              "      <td>1</td>\n",
              "      <td>1</td>\n",
              "    </tr>\n",
              "    <tr>\n",
              "      <th>1</th>\n",
              "      <td>8.800000</td>\n",
              "      <td>31.9</td>\n",
              "      <td>25.6</td>\n",
              "      <td>1</td>\n",
              "      <td>2</td>\n",
              "      <td>2</td>\n",
              "    </tr>\n",
              "    <tr>\n",
              "      <th>2</th>\n",
              "      <td>0.131694</td>\n",
              "      <td>6.9</td>\n",
              "      <td>15.9</td>\n",
              "      <td>0</td>\n",
              "      <td>3</td>\n",
              "      <td>3</td>\n",
              "    </tr>\n",
              "    <tr>\n",
              "      <th>3</th>\n",
              "      <td>2.037500</td>\n",
              "      <td>25.7</td>\n",
              "      <td>32.0</td>\n",
              "      <td>1</td>\n",
              "      <td>4</td>\n",
              "      <td>2</td>\n",
              "    </tr>\n",
              "    <tr>\n",
              "      <th>4</th>\n",
              "      <td>1.487500</td>\n",
              "      <td>25.7</td>\n",
              "      <td>32.0</td>\n",
              "      <td>1</td>\n",
              "      <td>4</td>\n",
              "      <td>2</td>\n",
              "    </tr>\n",
              "  </tbody>\n",
              "</table>\n",
              "</div>\n",
              "      <button class=\"colab-df-convert\" onclick=\"convertToInteractive('df-95fc55f1-9c01-4a28-b9c8-56efb7b9fc32')\"\n",
              "              title=\"Convert this dataframe to an interactive table.\"\n",
              "              style=\"display:none;\">\n",
              "        \n",
              "  <svg xmlns=\"http://www.w3.org/2000/svg\" height=\"24px\"viewBox=\"0 0 24 24\"\n",
              "       width=\"24px\">\n",
              "    <path d=\"M0 0h24v24H0V0z\" fill=\"none\"/>\n",
              "    <path d=\"M18.56 5.44l.94 2.06.94-2.06 2.06-.94-2.06-.94-.94-2.06-.94 2.06-2.06.94zm-11 1L8.5 8.5l.94-2.06 2.06-.94-2.06-.94L8.5 2.5l-.94 2.06-2.06.94zm10 10l.94 2.06.94-2.06 2.06-.94-2.06-.94-.94-2.06-.94 2.06-2.06.94z\"/><path d=\"M17.41 7.96l-1.37-1.37c-.4-.4-.92-.59-1.43-.59-.52 0-1.04.2-1.43.59L10.3 9.45l-7.72 7.72c-.78.78-.78 2.05 0 2.83L4 21.41c.39.39.9.59 1.41.59.51 0 1.02-.2 1.41-.59l7.78-7.78 2.81-2.81c.8-.78.8-2.07 0-2.86zM5.41 20L4 18.59l7.72-7.72 1.47 1.35L5.41 20z\"/>\n",
              "  </svg>\n",
              "      </button>\n",
              "      \n",
              "  <style>\n",
              "    .colab-df-container {\n",
              "      display:flex;\n",
              "      flex-wrap:wrap;\n",
              "      gap: 12px;\n",
              "    }\n",
              "\n",
              "    .colab-df-convert {\n",
              "      background-color: #E8F0FE;\n",
              "      border: none;\n",
              "      border-radius: 50%;\n",
              "      cursor: pointer;\n",
              "      display: none;\n",
              "      fill: #1967D2;\n",
              "      height: 32px;\n",
              "      padding: 0 0 0 0;\n",
              "      width: 32px;\n",
              "    }\n",
              "\n",
              "    .colab-df-convert:hover {\n",
              "      background-color: #E2EBFA;\n",
              "      box-shadow: 0px 1px 2px rgba(60, 64, 67, 0.3), 0px 1px 3px 1px rgba(60, 64, 67, 0.15);\n",
              "      fill: #174EA6;\n",
              "    }\n",
              "\n",
              "    [theme=dark] .colab-df-convert {\n",
              "      background-color: #3B4455;\n",
              "      fill: #D2E3FC;\n",
              "    }\n",
              "\n",
              "    [theme=dark] .colab-df-convert:hover {\n",
              "      background-color: #434B5C;\n",
              "      box-shadow: 0px 1px 3px 1px rgba(0, 0, 0, 0.15);\n",
              "      filter: drop-shadow(0px 1px 2px rgba(0, 0, 0, 0.3));\n",
              "      fill: #FFFFFF;\n",
              "    }\n",
              "  </style>\n",
              "\n",
              "      <script>\n",
              "        const buttonEl =\n",
              "          document.querySelector('#df-95fc55f1-9c01-4a28-b9c8-56efb7b9fc32 button.colab-df-convert');\n",
              "        buttonEl.style.display =\n",
              "          google.colab.kernel.accessAllowed ? 'block' : 'none';\n",
              "\n",
              "        async function convertToInteractive(key) {\n",
              "          const element = document.querySelector('#df-95fc55f1-9c01-4a28-b9c8-56efb7b9fc32');\n",
              "          const dataTable =\n",
              "            await google.colab.kernel.invokeFunction('convertToInteractive',\n",
              "                                                     [key], {});\n",
              "          if (!dataTable) return;\n",
              "\n",
              "          const docLinkHtml = 'Like what you see? Visit the ' +\n",
              "            '<a target=\"_blank\" href=https://colab.research.google.com/notebooks/data_table.ipynb>data table notebook</a>'\n",
              "            + ' to learn more about interactive tables.';\n",
              "          element.innerHTML = '';\n",
              "          dataTable['output_type'] = 'display_data';\n",
              "          await google.colab.output.renderOutput(dataTable, element);\n",
              "          const docLink = document.createElement('div');\n",
              "          docLink.innerHTML = docLinkHtml;\n",
              "          element.appendChild(docLink);\n",
              "        }\n",
              "      </script>\n",
              "    </div>\n",
              "  </div>\n",
              "  "
            ],
            "text/plain": [
              "      PRICE  HEIGHT  WIDTH  SIGNED  PICTURE  HOUSE \n",
              "0  3.993780    21.3   25.6       1        1       1\n",
              "1  8.800000    31.9   25.6       1        2       2\n",
              "2  0.131694     6.9   15.9       0        3       3\n",
              "3  2.037500    25.7   32.0       1        4       2\n",
              "4  1.487500    25.7   32.0       1        4       2"
            ]
          },
          "metadata": {},
          "execution_count": 5
        }
      ],
      "source": [
        "# getting data from dataframe\n",
        "# head gives top 5 rows in the data frame\n",
        "df.head()"
      ]
    },
    {
      "cell_type": "code",
      "execution_count": 6,
      "id": "7a2abdec",
      "metadata": {
        "colab": {
          "base_uri": "https://localhost:8080/"
        },
        "id": "7a2abdec",
        "outputId": "50efc4e9-5c89-41a8-ecda-f2a90b1a64fd"
      },
      "outputs": [
        {
          "output_type": "execute_result",
          "data": {
            "text/plain": [
              "PRICE      0\n",
              "HEIGHT     0\n",
              "WIDTH      0\n",
              "SIGNED     0\n",
              "PICTURE    0\n",
              "HOUSE      0\n",
              "dtype: int64"
            ]
          },
          "metadata": {},
          "execution_count": 6
        }
      ],
      "source": [
        "# checking any null values in the dataframe\n",
        "df.isnull().sum(axis=0)   "
      ]
    },
    {
      "cell_type": "code",
      "execution_count": 7,
      "id": "56567cdf",
      "metadata": {
        "id": "56567cdf"
      },
      "outputs": [],
      "source": [
        "# from the df we can create a new column with two columns in the df\n",
        "df[\"SIZE\"]=df[\"HEIGHT\"]*df[\"WIDTH\"]"
      ]
    },
    {
      "cell_type": "code",
      "execution_count": 8,
      "id": "edf326d5",
      "metadata": {
        "colab": {
          "base_uri": "https://localhost:8080/",
          "height": 206
        },
        "id": "edf326d5",
        "outputId": "5378dd27-0a0d-4ad8-f638-618fe6a8d08c"
      },
      "outputs": [
        {
          "output_type": "execute_result",
          "data": {
            "text/html": [
              "\n",
              "  <div id=\"df-02e42aa5-27f4-4506-816e-cf49a0ac54ab\">\n",
              "    <div class=\"colab-df-container\">\n",
              "      <div>\n",
              "<style scoped>\n",
              "    .dataframe tbody tr th:only-of-type {\n",
              "        vertical-align: middle;\n",
              "    }\n",
              "\n",
              "    .dataframe tbody tr th {\n",
              "        vertical-align: top;\n",
              "    }\n",
              "\n",
              "    .dataframe thead th {\n",
              "        text-align: right;\n",
              "    }\n",
              "</style>\n",
              "<table border=\"1\" class=\"dataframe\">\n",
              "  <thead>\n",
              "    <tr style=\"text-align: right;\">\n",
              "      <th></th>\n",
              "      <th>PRICE</th>\n",
              "      <th>HEIGHT</th>\n",
              "      <th>WIDTH</th>\n",
              "      <th>SIGNED</th>\n",
              "      <th>PICTURE</th>\n",
              "      <th>HOUSE</th>\n",
              "      <th>SIZE</th>\n",
              "    </tr>\n",
              "  </thead>\n",
              "  <tbody>\n",
              "    <tr>\n",
              "      <th>0</th>\n",
              "      <td>3.993780</td>\n",
              "      <td>21.3</td>\n",
              "      <td>25.6</td>\n",
              "      <td>1</td>\n",
              "      <td>1</td>\n",
              "      <td>1</td>\n",
              "      <td>545.28</td>\n",
              "    </tr>\n",
              "    <tr>\n",
              "      <th>1</th>\n",
              "      <td>8.800000</td>\n",
              "      <td>31.9</td>\n",
              "      <td>25.6</td>\n",
              "      <td>1</td>\n",
              "      <td>2</td>\n",
              "      <td>2</td>\n",
              "      <td>816.64</td>\n",
              "    </tr>\n",
              "    <tr>\n",
              "      <th>2</th>\n",
              "      <td>0.131694</td>\n",
              "      <td>6.9</td>\n",
              "      <td>15.9</td>\n",
              "      <td>0</td>\n",
              "      <td>3</td>\n",
              "      <td>3</td>\n",
              "      <td>109.71</td>\n",
              "    </tr>\n",
              "    <tr>\n",
              "      <th>3</th>\n",
              "      <td>2.037500</td>\n",
              "      <td>25.7</td>\n",
              "      <td>32.0</td>\n",
              "      <td>1</td>\n",
              "      <td>4</td>\n",
              "      <td>2</td>\n",
              "      <td>822.40</td>\n",
              "    </tr>\n",
              "    <tr>\n",
              "      <th>4</th>\n",
              "      <td>1.487500</td>\n",
              "      <td>25.7</td>\n",
              "      <td>32.0</td>\n",
              "      <td>1</td>\n",
              "      <td>4</td>\n",
              "      <td>2</td>\n",
              "      <td>822.40</td>\n",
              "    </tr>\n",
              "  </tbody>\n",
              "</table>\n",
              "</div>\n",
              "      <button class=\"colab-df-convert\" onclick=\"convertToInteractive('df-02e42aa5-27f4-4506-816e-cf49a0ac54ab')\"\n",
              "              title=\"Convert this dataframe to an interactive table.\"\n",
              "              style=\"display:none;\">\n",
              "        \n",
              "  <svg xmlns=\"http://www.w3.org/2000/svg\" height=\"24px\"viewBox=\"0 0 24 24\"\n",
              "       width=\"24px\">\n",
              "    <path d=\"M0 0h24v24H0V0z\" fill=\"none\"/>\n",
              "    <path d=\"M18.56 5.44l.94 2.06.94-2.06 2.06-.94-2.06-.94-.94-2.06-.94 2.06-2.06.94zm-11 1L8.5 8.5l.94-2.06 2.06-.94-2.06-.94L8.5 2.5l-.94 2.06-2.06.94zm10 10l.94 2.06.94-2.06 2.06-.94-2.06-.94-.94-2.06-.94 2.06-2.06.94z\"/><path d=\"M17.41 7.96l-1.37-1.37c-.4-.4-.92-.59-1.43-.59-.52 0-1.04.2-1.43.59L10.3 9.45l-7.72 7.72c-.78.78-.78 2.05 0 2.83L4 21.41c.39.39.9.59 1.41.59.51 0 1.02-.2 1.41-.59l7.78-7.78 2.81-2.81c.8-.78.8-2.07 0-2.86zM5.41 20L4 18.59l7.72-7.72 1.47 1.35L5.41 20z\"/>\n",
              "  </svg>\n",
              "      </button>\n",
              "      \n",
              "  <style>\n",
              "    .colab-df-container {\n",
              "      display:flex;\n",
              "      flex-wrap:wrap;\n",
              "      gap: 12px;\n",
              "    }\n",
              "\n",
              "    .colab-df-convert {\n",
              "      background-color: #E8F0FE;\n",
              "      border: none;\n",
              "      border-radius: 50%;\n",
              "      cursor: pointer;\n",
              "      display: none;\n",
              "      fill: #1967D2;\n",
              "      height: 32px;\n",
              "      padding: 0 0 0 0;\n",
              "      width: 32px;\n",
              "    }\n",
              "\n",
              "    .colab-df-convert:hover {\n",
              "      background-color: #E2EBFA;\n",
              "      box-shadow: 0px 1px 2px rgba(60, 64, 67, 0.3), 0px 1px 3px 1px rgba(60, 64, 67, 0.15);\n",
              "      fill: #174EA6;\n",
              "    }\n",
              "\n",
              "    [theme=dark] .colab-df-convert {\n",
              "      background-color: #3B4455;\n",
              "      fill: #D2E3FC;\n",
              "    }\n",
              "\n",
              "    [theme=dark] .colab-df-convert:hover {\n",
              "      background-color: #434B5C;\n",
              "      box-shadow: 0px 1px 3px 1px rgba(0, 0, 0, 0.15);\n",
              "      filter: drop-shadow(0px 1px 2px rgba(0, 0, 0, 0.3));\n",
              "      fill: #FFFFFF;\n",
              "    }\n",
              "  </style>\n",
              "\n",
              "      <script>\n",
              "        const buttonEl =\n",
              "          document.querySelector('#df-02e42aa5-27f4-4506-816e-cf49a0ac54ab button.colab-df-convert');\n",
              "        buttonEl.style.display =\n",
              "          google.colab.kernel.accessAllowed ? 'block' : 'none';\n",
              "\n",
              "        async function convertToInteractive(key) {\n",
              "          const element = document.querySelector('#df-02e42aa5-27f4-4506-816e-cf49a0ac54ab');\n",
              "          const dataTable =\n",
              "            await google.colab.kernel.invokeFunction('convertToInteractive',\n",
              "                                                     [key], {});\n",
              "          if (!dataTable) return;\n",
              "\n",
              "          const docLinkHtml = 'Like what you see? Visit the ' +\n",
              "            '<a target=\"_blank\" href=https://colab.research.google.com/notebooks/data_table.ipynb>data table notebook</a>'\n",
              "            + ' to learn more about interactive tables.';\n",
              "          element.innerHTML = '';\n",
              "          dataTable['output_type'] = 'display_data';\n",
              "          await google.colab.output.renderOutput(dataTable, element);\n",
              "          const docLink = document.createElement('div');\n",
              "          docLink.innerHTML = docLinkHtml;\n",
              "          element.appendChild(docLink);\n",
              "        }\n",
              "      </script>\n",
              "    </div>\n",
              "  </div>\n",
              "  "
            ],
            "text/plain": [
              "      PRICE  HEIGHT  WIDTH  SIGNED  PICTURE  HOUSE     SIZE\n",
              "0  3.993780    21.3   25.6       1        1       1  545.28\n",
              "1  8.800000    31.9   25.6       1        2       2  816.64\n",
              "2  0.131694     6.9   15.9       0        3       3  109.71\n",
              "3  2.037500    25.7   32.0       1        4       2  822.40\n",
              "4  1.487500    25.7   32.0       1        4       2  822.40"
            ]
          },
          "metadata": {},
          "execution_count": 8
        }
      ],
      "source": [
        "# checking dataframe \n",
        "# head gives top 5 rows in the data frame\n",
        "df.head()"
      ]
    },
    {
      "cell_type": "code",
      "execution_count": 9,
      "id": "288caa4c",
      "metadata": {
        "colab": {
          "base_uri": "https://localhost:8080/",
          "height": 206
        },
        "id": "288caa4c",
        "outputId": "2f804e3a-21df-49ec-c0f3-4adc5a201c2b"
      },
      "outputs": [
        {
          "output_type": "execute_result",
          "data": {
            "text/html": [
              "\n",
              "  <div id=\"df-e9e28e33-e5fb-4efb-b939-a97c60e168bc\">\n",
              "    <div class=\"colab-df-container\">\n",
              "      <div>\n",
              "<style scoped>\n",
              "    .dataframe tbody tr th:only-of-type {\n",
              "        vertical-align: middle;\n",
              "    }\n",
              "\n",
              "    .dataframe tbody tr th {\n",
              "        vertical-align: top;\n",
              "    }\n",
              "\n",
              "    .dataframe thead th {\n",
              "        text-align: right;\n",
              "    }\n",
              "</style>\n",
              "<table border=\"1\" class=\"dataframe\">\n",
              "  <thead>\n",
              "    <tr style=\"text-align: right;\">\n",
              "      <th></th>\n",
              "      <th>PRICE</th>\n",
              "      <th>HEIGHT</th>\n",
              "      <th>WIDTH</th>\n",
              "      <th>SIGNED</th>\n",
              "      <th>PICTURE</th>\n",
              "      <th>HOUSE</th>\n",
              "      <th>SIZE</th>\n",
              "    </tr>\n",
              "  </thead>\n",
              "  <tbody>\n",
              "    <tr>\n",
              "      <th>425</th>\n",
              "      <td>5.2825</td>\n",
              "      <td>25.6</td>\n",
              "      <td>39.4</td>\n",
              "      <td>1</td>\n",
              "      <td>375</td>\n",
              "      <td>1</td>\n",
              "      <td>1008.64</td>\n",
              "    </tr>\n",
              "    <tr>\n",
              "      <th>426</th>\n",
              "      <td>9.3525</td>\n",
              "      <td>25.9</td>\n",
              "      <td>39.6</td>\n",
              "      <td>1</td>\n",
              "      <td>375</td>\n",
              "      <td>2</td>\n",
              "      <td>1025.64</td>\n",
              "    </tr>\n",
              "    <tr>\n",
              "      <th>427</th>\n",
              "      <td>8.2525</td>\n",
              "      <td>25.6</td>\n",
              "      <td>39.6</td>\n",
              "      <td>1</td>\n",
              "      <td>375</td>\n",
              "      <td>1</td>\n",
              "      <td>1013.76</td>\n",
              "    </tr>\n",
              "    <tr>\n",
              "      <th>428</th>\n",
              "      <td>3.4100</td>\n",
              "      <td>25.6</td>\n",
              "      <td>39.4</td>\n",
              "      <td>1</td>\n",
              "      <td>386</td>\n",
              "      <td>2</td>\n",
              "      <td>1008.64</td>\n",
              "    </tr>\n",
              "    <tr>\n",
              "      <th>429</th>\n",
              "      <td>1.5425</td>\n",
              "      <td>25.7</td>\n",
              "      <td>32.0</td>\n",
              "      <td>1</td>\n",
              "      <td>387</td>\n",
              "      <td>1</td>\n",
              "      <td>822.40</td>\n",
              "    </tr>\n",
              "  </tbody>\n",
              "</table>\n",
              "</div>\n",
              "      <button class=\"colab-df-convert\" onclick=\"convertToInteractive('df-e9e28e33-e5fb-4efb-b939-a97c60e168bc')\"\n",
              "              title=\"Convert this dataframe to an interactive table.\"\n",
              "              style=\"display:none;\">\n",
              "        \n",
              "  <svg xmlns=\"http://www.w3.org/2000/svg\" height=\"24px\"viewBox=\"0 0 24 24\"\n",
              "       width=\"24px\">\n",
              "    <path d=\"M0 0h24v24H0V0z\" fill=\"none\"/>\n",
              "    <path d=\"M18.56 5.44l.94 2.06.94-2.06 2.06-.94-2.06-.94-.94-2.06-.94 2.06-2.06.94zm-11 1L8.5 8.5l.94-2.06 2.06-.94-2.06-.94L8.5 2.5l-.94 2.06-2.06.94zm10 10l.94 2.06.94-2.06 2.06-.94-2.06-.94-.94-2.06-.94 2.06-2.06.94z\"/><path d=\"M17.41 7.96l-1.37-1.37c-.4-.4-.92-.59-1.43-.59-.52 0-1.04.2-1.43.59L10.3 9.45l-7.72 7.72c-.78.78-.78 2.05 0 2.83L4 21.41c.39.39.9.59 1.41.59.51 0 1.02-.2 1.41-.59l7.78-7.78 2.81-2.81c.8-.78.8-2.07 0-2.86zM5.41 20L4 18.59l7.72-7.72 1.47 1.35L5.41 20z\"/>\n",
              "  </svg>\n",
              "      </button>\n",
              "      \n",
              "  <style>\n",
              "    .colab-df-container {\n",
              "      display:flex;\n",
              "      flex-wrap:wrap;\n",
              "      gap: 12px;\n",
              "    }\n",
              "\n",
              "    .colab-df-convert {\n",
              "      background-color: #E8F0FE;\n",
              "      border: none;\n",
              "      border-radius: 50%;\n",
              "      cursor: pointer;\n",
              "      display: none;\n",
              "      fill: #1967D2;\n",
              "      height: 32px;\n",
              "      padding: 0 0 0 0;\n",
              "      width: 32px;\n",
              "    }\n",
              "\n",
              "    .colab-df-convert:hover {\n",
              "      background-color: #E2EBFA;\n",
              "      box-shadow: 0px 1px 2px rgba(60, 64, 67, 0.3), 0px 1px 3px 1px rgba(60, 64, 67, 0.15);\n",
              "      fill: #174EA6;\n",
              "    }\n",
              "\n",
              "    [theme=dark] .colab-df-convert {\n",
              "      background-color: #3B4455;\n",
              "      fill: #D2E3FC;\n",
              "    }\n",
              "\n",
              "    [theme=dark] .colab-df-convert:hover {\n",
              "      background-color: #434B5C;\n",
              "      box-shadow: 0px 1px 3px 1px rgba(0, 0, 0, 0.15);\n",
              "      filter: drop-shadow(0px 1px 2px rgba(0, 0, 0, 0.3));\n",
              "      fill: #FFFFFF;\n",
              "    }\n",
              "  </style>\n",
              "\n",
              "      <script>\n",
              "        const buttonEl =\n",
              "          document.querySelector('#df-e9e28e33-e5fb-4efb-b939-a97c60e168bc button.colab-df-convert');\n",
              "        buttonEl.style.display =\n",
              "          google.colab.kernel.accessAllowed ? 'block' : 'none';\n",
              "\n",
              "        async function convertToInteractive(key) {\n",
              "          const element = document.querySelector('#df-e9e28e33-e5fb-4efb-b939-a97c60e168bc');\n",
              "          const dataTable =\n",
              "            await google.colab.kernel.invokeFunction('convertToInteractive',\n",
              "                                                     [key], {});\n",
              "          if (!dataTable) return;\n",
              "\n",
              "          const docLinkHtml = 'Like what you see? Visit the ' +\n",
              "            '<a target=\"_blank\" href=https://colab.research.google.com/notebooks/data_table.ipynb>data table notebook</a>'\n",
              "            + ' to learn more about interactive tables.';\n",
              "          element.innerHTML = '';\n",
              "          dataTable['output_type'] = 'display_data';\n",
              "          await google.colab.output.renderOutput(dataTable, element);\n",
              "          const docLink = document.createElement('div');\n",
              "          docLink.innerHTML = docLinkHtml;\n",
              "          element.appendChild(docLink);\n",
              "        }\n",
              "      </script>\n",
              "    </div>\n",
              "  </div>\n",
              "  "
            ],
            "text/plain": [
              "      PRICE  HEIGHT  WIDTH  SIGNED  PICTURE  HOUSE      SIZE\n",
              "425  5.2825    25.6   39.4       1      375       1  1008.64\n",
              "426  9.3525    25.9   39.6       1      375       2  1025.64\n",
              "427  8.2525    25.6   39.6       1      375       1  1013.76\n",
              "428  3.4100    25.6   39.4       1      386       2  1008.64\n",
              "429  1.5425    25.7   32.0       1      387       1   822.40"
            ]
          },
          "metadata": {},
          "execution_count": 9
        }
      ],
      "source": [
        "# tail gives bottom 5 rows in the data frame\n",
        "df.tail()"
      ]
    },
    {
      "cell_type": "code",
      "execution_count": 10,
      "id": "58728911",
      "metadata": {
        "colab": {
          "base_uri": "https://localhost:8080/"
        },
        "id": "58728911",
        "outputId": "c9a5c679-37b8-4e17-a830-6bb900f36fbe"
      },
      "outputs": [
        {
          "output_type": "stream",
          "name": "stdout",
          "text": [
            "<class 'pandas.core.frame.DataFrame'>\n",
            "RangeIndex: 430 entries, 0 to 429\n",
            "Data columns (total 7 columns):\n",
            " #   Column   Non-Null Count  Dtype  \n",
            "---  ------   --------------  -----  \n",
            " 0   PRICE    430 non-null    float64\n",
            " 1   HEIGHT   430 non-null    float64\n",
            " 2   WIDTH    430 non-null    float64\n",
            " 3   SIGNED   430 non-null    int64  \n",
            " 4   PICTURE  430 non-null    int64  \n",
            " 5   HOUSE    430 non-null    int64  \n",
            " 6   SIZE     430 non-null    float64\n",
            "dtypes: float64(4), int64(3)\n",
            "memory usage: 23.6 KB\n"
          ]
        }
      ],
      "source": [
        "# info gives the information of the data frame\n",
        "df.info()"
      ]
    },
    {
      "cell_type": "code",
      "source": [
        ""
      ],
      "metadata": {
        "id": "jtESBxmXDbtQ"
      },
      "id": "jtESBxmXDbtQ",
      "execution_count": 11,
      "outputs": []
    },
    {
      "cell_type": "markdown",
      "id": "1aa719f8",
      "metadata": {
        "id": "1aa719f8"
      },
      "source": [
        "# problem 1"
      ]
    },
    {
      "cell_type": "code",
      "execution_count": 12,
      "id": "61e82ac7",
      "metadata": {
        "colab": {
          "base_uri": "https://localhost:8080/",
          "height": 350
        },
        "id": "61e82ac7",
        "outputId": "9edd7ab4-4590-40e4-f45a-d0679843582a"
      },
      "outputs": [
        {
          "output_type": "stream",
          "name": "stderr",
          "text": [
            "/usr/local/lib/python3.7/dist-packages/seaborn/_decorators.py:43: FutureWarning: Pass the following variables as keyword args: x, y. From version 0.12, the only valid positional argument will be `data`, and passing other arguments without an explicit keyword will result in an error or misinterpretation.\n",
            "  FutureWarning\n"
          ]
        },
        {
          "output_type": "display_data",
          "data": {
            "image/png": "[encoded data removed]",
            "text/plain": [
              "<Figure size 432x288 with 1 Axes>"
            ]
          },
          "metadata": {
            "needs_background": "light"
          }
        }
      ],
      "source": [
        "# regression plot for independent and dependent variable \n",
        "# Y axis as price and X axis as Size (Size=Height*Width)\n",
        "y_1=df[\"PRICE\"]\n",
        "x_1=df[\"SIZE\"]\n",
        "sns.regplot(x_1, y_1,ci=None)\n",
        "plt.title(\"Regression plot between dependent and independent variable\")\n",
        "plt.show()"
      ]
    },
    {
      "cell_type": "code",
      "execution_count": 35,
      "id": "b2bf3948",
      "metadata": {
        "colab": {
          "base_uri": "https://localhost:8080/"
        },
        "id": "b2bf3948",
        "outputId": "05464f95-c5bd-4670-d0c5-2c53cf961da3"
      },
      "outputs": [
        {
          "output_type": "stream",
          "name": "stdout",
          "text": [
            "Training data X_train : (344, 1), y_train : (344,)\n",
            "Testing data X_test : (86, 1), y_test : (86,)\n"
          ]
        }
      ],
      "source": [
        "# splitting given data 80% to train and 20% to test by using sklearn\n",
        "from sklearn.model_selection import train_test_split\n",
        "X_train, X_test, y_train, y_test = train_test_split(df[['SIZE']], df['PRICE'], train_size = 0.8)\n",
        "\n",
        "print(f\"Training data X_train : {X_train.shape}, y_train : {y_train.shape}\")\n",
        "print(f\"Testing data X_test : {X_test.shape}, y_test : {y_test.shape}\")\n"
      ]
    },
    {
      "cell_type": "code",
      "execution_count": 37,
      "id": "338f051e",
      "metadata": {
        "colab": {
          "base_uri": "https://localhost:8080/"
        },
        "id": "338f051e",
        "outputId": "d7a7c4d3-c91e-4165-b6e7-4dff14c63685"
      },
      "outputs": [
        {
          "output_type": "stream",
          "name": "stdout",
          "text": [
            "The coefficient of determined prediction :- 0.10793625649666727\n"
          ]
        }
      ],
      "source": [
        "# importing linear regression,r2_score,mean_squared_error from sklearn\n",
        "\n",
        "from sklearn.linear_model import LinearRegression\n",
        "from sklearn.metrics import r2_score,mean_squared_error\n",
        "\n",
        "#linear regression and fitting the data from X_train and y_train\n",
        "# Fit linear model for training data\n",
        "model_lr=LinearRegression().fit(X_train,y_train)\n",
        "\n",
        "# printing the regression score for the train data\n",
        "print(\"The coefficient of determined prediction :-\",model_lr.score(X_train,y_train))\n",
        "\n",
        "# Predict using the linear model for test data\n",
        "predict_lr_1 = model_lr.predict(X_test)\n"
      ]
    },
    {
      "cell_type": "code",
      "execution_count": 40,
      "id": "c2d6c277",
      "metadata": {
        "colab": {
          "base_uri": "https://localhost:8080/",
          "height": 333
        },
        "id": "c2d6c277",
        "outputId": "967fbff6-f970-4dd8-c13c-24d22d468e27"
      },
      "outputs": [
        {
          "output_type": "stream",
          "name": "stdout",
          "text": [
            "Coefficients: \n",
            " [0.00209478]\n",
            "Mean squared error: 9.02\n",
            "Coefficient of determination: 0.14\n"
          ]
        },
        {
          "output_type": "display_data",
          "data": {
            "image/png": "[encoded data removed]",
            "text/plain": [
              "<Figure size 432x288 with 1 Axes>"
            ]
          },
          "metadata": {}
        }
      ],
      "source": [
        "# The coefficients\n",
        "print(\"Coefficients: \\n\", model_lr.coef_)\n",
        "# The mean squared error\n",
        "print(\"Mean squared error: %.2f\" % mean_squared_error(y_test,predict_lr_1))\n",
        "# The coefficient of determination: 1 is perfect prediction\n",
        "print(\"Coefficient of determination: %.2f\" % r2_score(y_test,predict_lr_1))\n",
        "\n",
        "# Plot outputs\n",
        "plt.scatter(X_test, y_test, color=\"green\")\n",
        "plt.plot(X_test, predict_lr_1, color=\"red\", linewidth=3)\n",
        "\n",
        "plt.xticks(())\n",
        "plt.yticks(())\n",
        "\n",
        "plt.xlabel(\"X_test\")\n",
        "plt.ylabel(\"y_test\")\n",
        "\n",
        "plt.show()"
      ]
    },
    {
      "cell_type": "code",
      "execution_count": 16,
      "id": "0cdbc2bd",
      "metadata": {
        "colab": {
          "base_uri": "https://localhost:8080/"
        },
        "id": "0cdbc2bd",
        "outputId": "1c513659-50e7-4312-f847-07769970cb9b"
      },
      "outputs": [
        {
          "output_type": "stream",
          "name": "stdout",
          "text": [
            "Root Mean Square :-  3.8469869226032496\n"
          ]
        }
      ],
      "source": [
        "import math\n",
        "Root_Mean_Sq_Er=math.sqrt(mean_squared_error(y_test,predict_lr_1))\n",
        "print(\"Root Mean Square :- \",Root_Mean_Sq_Er)"
      ]
    },
    {
      "cell_type": "markdown",
      "id": "19f7459e",
      "metadata": {
        "id": "19f7459e"
      },
      "source": [
        "# problem 2"
      ]
    },
    {
      "cell_type": "code",
      "execution_count": 41,
      "id": "792123c5",
      "metadata": {
        "colab": {
          "base_uri": "https://localhost:8080/",
          "height": 717
        },
        "id": "792123c5",
        "outputId": "5633dc1b-86ae-4bc5-87d4-e64aeff91429"
      },
      "outputs": [
        {
          "output_type": "stream",
          "name": "stderr",
          "text": [
            "/usr/local/lib/python3.7/dist-packages/seaborn/_decorators.py:43: FutureWarning: Pass the following variables as keyword args: x, y. From version 0.12, the only valid positional argument will be `data`, and passing other arguments without an explicit keyword will result in an error or misinterpretation.\n",
            "  FutureWarning\n"
          ]
        },
        {
          "output_type": "display_data",
          "data": {
            "image/png": "[encoded data removed]",
            "text/plain": [
              "<Figure size 432x288 with 1 Axes>"
            ]
          },
          "metadata": {
            "needs_background": "light"
          }
        },
        {
          "output_type": "stream",
          "name": "stdout",
          "text": [
            "Data split X_train : (344, 1), y_train : (344,)\n",
            "Data split X_train : (86, 1), y_train : (86,)\n",
            "The coefficient of determination of the prediction :- -5.550514280218485\n",
            "Coefficients: \n",
            " [0.01170112]\n",
            "Mean squared error: 31.85\n",
            "Coefficient of determination: 0.58\n"
          ]
        },
        {
          "output_type": "display_data",
          "data": {
            "image/png": "[encoded data removed]",
            "text/plain": [
              "<Figure size 432x288 with 1 Axes>"
            ]
          },
          "metadata": {}
        }
      ],
      "source": [
        "# regression plot for independent and dependent variable \n",
        "# Y axis as price and X axis as Height\n",
        "y_2=df[\"PRICE\"]\n",
        "x_2=df[\"HEIGHT\"]\n",
        "sns.regplot(x_2, y_2,ci=None)\n",
        "plt.title(\"Regression plot between dependent and independent variable\")\n",
        "plt.show()\n",
        "\n",
        "\n",
        "# splitting given data 80% to train and 20% to test by using sklearn\n",
        "from sklearn.model_selection import train_test_split\n",
        "X_train_2, X_test_2, y_train_2, y_test_2 = train_test_split(df[['SIZE']], df['HEIGHT'], train_size = 0.8)\n",
        "\n",
        "print(f\"Data split X_train : {X_train_2.shape}, y_train : {y_train_2.shape}\")\n",
        "print(f\"Data split X_train : {X_test_2.shape}, y_train : {y_test_2.shape}\")\n",
        "\n",
        "\n",
        "# importing linear regression,r2_score,mean_squared_error from sklearn\n",
        "\n",
        "from sklearn.linear_model import LinearRegression\n",
        "from sklearn.metrics import r2_score,mean_squared_error\n",
        "\n",
        "#linear regression and fitting the data from X_train and y_train\n",
        "# Fit linear model for training data\n",
        "model_lr_2=LinearRegression().fit(X_train_2,y_train_2)\n",
        "\n",
        "# printing the regression score for the train data\n",
        "print(\"The coefficient of determination of the prediction :-\",model_lr.score(X_train_2,y_train_2))\n",
        "\n",
        "# Predict using the linear model for test data\n",
        "predict_lr_2 = model_lr_2.predict(X_test_2)\n",
        "\n",
        "\n",
        "# The coefficients\n",
        "print(\"Coefficients: \\n\", model_lr_2.coef_)\n",
        "# The mean squared error\n",
        "print(\"Mean squared error: %.2f\" % mean_squared_error(y_test_2,predict_lr_2))\n",
        "# The coefficient of determination: 1 is perfect prediction\n",
        "print(\"Coefficient of determination: %.2f\" % r2_score(y_test_2,predict_lr_2))\n",
        "\n",
        "# Plot outputs\n",
        "plt.scatter(X_test_2, y_test_2, color=\"green\")\n",
        "plt.plot(X_test_2, predict_lr_2, color=\"purple\", linewidth=3)\n",
        "\n",
        "plt.xticks(())\n",
        "plt.yticks(())\n",
        "\n",
        "plt.xlabel(\"X_test\")\n",
        "plt.ylabel(\"y_test\")\n",
        "\n",
        "plt.show()"
      ]
    },
    {
      "cell_type": "markdown",
      "id": "2de6bc65",
      "metadata": {
        "id": "2de6bc65"
      },
      "source": [
        "# Multvariant Linear Regression"
      ]
    },
    {
      "cell_type": "code",
      "execution_count": 18,
      "id": "87e60b96",
      "metadata": {
        "colab": {
          "base_uri": "https://localhost:8080/",
          "height": 269
        },
        "id": "87e60b96",
        "outputId": "d8d7226a-23ac-475f-ed43-9f71f5e1f7e3"
      },
      "outputs": [
        {
          "output_type": "execute_result",
          "data": {
            "text/html": [
              "\n",
              "  <div id=\"df-1a4a5ddc-0377-4295-8c7b-58a7d7a09846\">\n",
              "    <div class=\"colab-df-container\">\n",
              "      <div>\n",
              "<style scoped>\n",
              "    .dataframe tbody tr th:only-of-type {\n",
              "        vertical-align: middle;\n",
              "    }\n",
              "\n",
              "    .dataframe tbody tr th {\n",
              "        vertical-align: top;\n",
              "    }\n",
              "\n",
              "    .dataframe thead th {\n",
              "        text-align: right;\n",
              "    }\n",
              "</style>\n",
              "<table border=\"1\" class=\"dataframe\">\n",
              "  <thead>\n",
              "    <tr style=\"text-align: right;\">\n",
              "      <th></th>\n",
              "      <th>PRICE</th>\n",
              "      <th>HEIGHT</th>\n",
              "      <th>WIDTH</th>\n",
              "      <th>SIGNED</th>\n",
              "      <th>PICTURE</th>\n",
              "      <th>HOUSE</th>\n",
              "      <th>SIZE</th>\n",
              "    </tr>\n",
              "  </thead>\n",
              "  <tbody>\n",
              "    <tr>\n",
              "      <th>PRICE</th>\n",
              "      <td>1.000000</td>\n",
              "      <td>0.314581</td>\n",
              "      <td>0.346881</td>\n",
              "      <td>0.136362</td>\n",
              "      <td>0.106078</td>\n",
              "      <td>-0.039878</td>\n",
              "      <td>0.347227</td>\n",
              "    </tr>\n",
              "    <tr>\n",
              "      <th>HEIGHT</th>\n",
              "      <td>0.314581</td>\n",
              "      <td>1.000000</td>\n",
              "      <td>0.503280</td>\n",
              "      <td>-0.145835</td>\n",
              "      <td>0.041556</td>\n",
              "      <td>-0.095278</td>\n",
              "      <td>0.810881</td>\n",
              "    </tr>\n",
              "    <tr>\n",
              "      <th>WIDTH</th>\n",
              "      <td>0.346881</td>\n",
              "      <td>0.503280</td>\n",
              "      <td>1.000000</td>\n",
              "      <td>-0.109218</td>\n",
              "      <td>0.046845</td>\n",
              "      <td>-0.169441</td>\n",
              "      <td>0.853942</td>\n",
              "    </tr>\n",
              "    <tr>\n",
              "      <th>SIGNED</th>\n",
              "      <td>0.136362</td>\n",
              "      <td>-0.145835</td>\n",
              "      <td>-0.109218</td>\n",
              "      <td>1.000000</td>\n",
              "      <td>0.009664</td>\n",
              "      <td>-0.132464</td>\n",
              "      <td>-0.198969</td>\n",
              "    </tr>\n",
              "    <tr>\n",
              "      <th>PICTURE</th>\n",
              "      <td>0.106078</td>\n",
              "      <td>0.041556</td>\n",
              "      <td>0.046845</td>\n",
              "      <td>0.009664</td>\n",
              "      <td>1.000000</td>\n",
              "      <td>-0.008359</td>\n",
              "      <td>0.090118</td>\n",
              "    </tr>\n",
              "    <tr>\n",
              "      <th>HOUSE</th>\n",
              "      <td>-0.039878</td>\n",
              "      <td>-0.095278</td>\n",
              "      <td>-0.169441</td>\n",
              "      <td>-0.132464</td>\n",
              "      <td>-0.008359</td>\n",
              "      <td>1.000000</td>\n",
              "      <td>-0.124385</td>\n",
              "    </tr>\n",
              "    <tr>\n",
              "      <th>SIZE</th>\n",
              "      <td>0.347227</td>\n",
              "      <td>0.810881</td>\n",
              "      <td>0.853942</td>\n",
              "      <td>-0.198969</td>\n",
              "      <td>0.090118</td>\n",
              "      <td>-0.124385</td>\n",
              "      <td>1.000000</td>\n",
              "    </tr>\n",
              "  </tbody>\n",
              "</table>\n",
              "</div>\n",
              "      <button class=\"colab-df-convert\" onclick=\"convertToInteractive('df-1a4a5ddc-0377-4295-8c7b-58a7d7a09846')\"\n",
              "              title=\"Convert this dataframe to an interactive table.\"\n",
              "              style=\"display:none;\">\n",
              "        \n",
              "  <svg xmlns=\"http://www.w3.org/2000/svg\" height=\"24px\"viewBox=\"0 0 24 24\"\n",
              "       width=\"24px\">\n",
              "    <path d=\"M0 0h24v24H0V0z\" fill=\"none\"/>\n",
              "    <path d=\"M18.56 5.44l.94 2.06.94-2.06 2.06-.94-2.06-.94-.94-2.06-.94 2.06-2.06.94zm-11 1L8.5 8.5l.94-2.06 2.06-.94-2.06-.94L8.5 2.5l-.94 2.06-2.06.94zm10 10l.94 2.06.94-2.06 2.06-.94-2.06-.94-.94-2.06-.94 2.06-2.06.94z\"/><path d=\"M17.41 7.96l-1.37-1.37c-.4-.4-.92-.59-1.43-.59-.52 0-1.04.2-1.43.59L10.3 9.45l-7.72 7.72c-.78.78-.78 2.05 0 2.83L4 21.41c.39.39.9.59 1.41.59.51 0 1.02-.2 1.41-.59l7.78-7.78 2.81-2.81c.8-.78.8-2.07 0-2.86zM5.41 20L4 18.59l7.72-7.72 1.47 1.35L5.41 20z\"/>\n",
              "  </svg>\n",
              "      </button>\n",
              "      \n",
              "  <style>\n",
              "    .colab-df-container {\n",
              "      display:flex;\n",
              "      flex-wrap:wrap;\n",
              "      gap: 12px;\n",
              "    }\n",
              "\n",
              "    .colab-df-convert {\n",
              "      background-color: #E8F0FE;\n",
              "      border: none;\n",
              "      border-radius: 50%;\n",
              "      cursor: pointer;\n",
              "      display: none;\n",
              "      fill: #1967D2;\n",
              "      height: 32px;\n",
              "      padding: 0 0 0 0;\n",
              "      width: 32px;\n",
              "    }\n",
              "\n",
              "    .colab-df-convert:hover {\n",
              "      background-color: #E2EBFA;\n",
              "      box-shadow: 0px 1px 2px rgba(60, 64, 67, 0.3), 0px 1px 3px 1px rgba(60, 64, 67, 0.15);\n",
              "      fill: #174EA6;\n",
              "    }\n",
              "\n",
              "    [theme=dark] .colab-df-convert {\n",
              "      background-color: #3B4455;\n",
              "      fill: #D2E3FC;\n",
              "    }\n",
              "\n",
              "    [theme=dark] .colab-df-convert:hover {\n",
              "      background-color: #434B5C;\n",
              "      box-shadow: 0px 1px 3px 1px rgba(0, 0, 0, 0.15);\n",
              "      filter: drop-shadow(0px 1px 2px rgba(0, 0, 0, 0.3));\n",
              "      fill: #FFFFFF;\n",
              "    }\n",
              "  </style>\n",
              "\n",
              "      <script>\n",
              "        const buttonEl =\n",
              "          document.querySelector('#df-1a4a5ddc-0377-4295-8c7b-58a7d7a09846 button.colab-df-convert');\n",
              "        buttonEl.style.display =\n",
              "          google.colab.kernel.accessAllowed ? 'block' : 'none';\n",
              "\n",
              "        async function convertToInteractive(key) {\n",
              "          const element = document.querySelector('#df-1a4a5ddc-0377-4295-8c7b-58a7d7a09846');\n",
              "          const dataTable =\n",
              "            await google.colab.kernel.invokeFunction('convertToInteractive',\n",
              "                                                     [key], {});\n",
              "          if (!dataTable) return;\n",
              "\n",
              "          const docLinkHtml = 'Like what you see? Visit the ' +\n",
              "            '<a target=\"_blank\" href=https://colab.research.google.com/notebooks/data_table.ipynb>data table notebook</a>'\n",
              "            + ' to learn more about interactive tables.';\n",
              "          element.innerHTML = '';\n",
              "          dataTable['output_type'] = 'display_data';\n",
              "          await google.colab.output.renderOutput(dataTable, element);\n",
              "          const docLink = document.createElement('div');\n",
              "          docLink.innerHTML = docLinkHtml;\n",
              "          element.appendChild(docLink);\n",
              "        }\n",
              "      </script>\n",
              "    </div>\n",
              "  </div>\n",
              "  "
            ],
            "text/plain": [
              "            PRICE    HEIGHT     WIDTH    SIGNED   PICTURE    HOUSE       SIZE\n",
              "PRICE    1.000000  0.314581  0.346881  0.136362  0.106078 -0.039878  0.347227\n",
              "HEIGHT   0.314581  1.000000  0.503280 -0.145835  0.041556 -0.095278  0.810881\n",
              "WIDTH    0.346881  0.503280  1.000000 -0.109218  0.046845 -0.169441  0.853942\n",
              "SIGNED   0.136362 -0.145835 -0.109218  1.000000  0.009664 -0.132464 -0.198969\n",
              "PICTURE  0.106078  0.041556  0.046845  0.009664  1.000000 -0.008359  0.090118\n",
              "HOUSE   -0.039878 -0.095278 -0.169441 -0.132464 -0.008359  1.000000 -0.124385\n",
              "SIZE     0.347227  0.810881  0.853942 -0.198969  0.090118 -0.124385  1.000000"
            ]
          },
          "metadata": {},
          "execution_count": 18
        }
      ],
      "source": [
        "# find corrleation for data\n",
        "df.corr()"
      ]
    },
    {
      "cell_type": "code",
      "execution_count": 19,
      "id": "2a87896d",
      "metadata": {
        "id": "2a87896d"
      },
      "outputs": [],
      "source": [
        "dummy= pd.get_dummies(df['SIGNED'], prefix='SIGNED')\n",
        "\n",
        "# Join the dummy columns with the dataset\n",
        "df=df.join(dummy)"
      ]
    },
    {
      "cell_type": "code",
      "execution_count": 20,
      "id": "d232105d",
      "metadata": {
        "colab": {
          "base_uri": "https://localhost:8080/",
          "height": 423
        },
        "id": "d232105d",
        "outputId": "b7fbf34b-2029-48f8-bf89-94b2560032d5"
      },
      "outputs": [
        {
          "output_type": "execute_result",
          "data": {
            "text/html": [
              "\n",
              "  <div id=\"df-e25c523e-405e-47af-81a7-82e9d6490d6a\">\n",
              "    <div class=\"colab-df-container\">\n",
              "      <div>\n",
              "<style scoped>\n",
              "    .dataframe tbody tr th:only-of-type {\n",
              "        vertical-align: middle;\n",
              "    }\n",
              "\n",
              "    .dataframe tbody tr th {\n",
              "        vertical-align: top;\n",
              "    }\n",
              "\n",
              "    .dataframe thead th {\n",
              "        text-align: right;\n",
              "    }\n",
              "</style>\n",
              "<table border=\"1\" class=\"dataframe\">\n",
              "  <thead>\n",
              "    <tr style=\"text-align: right;\">\n",
              "      <th></th>\n",
              "      <th>PRICE</th>\n",
              "      <th>HEIGHT</th>\n",
              "      <th>WIDTH</th>\n",
              "      <th>SIGNED</th>\n",
              "      <th>PICTURE</th>\n",
              "      <th>HOUSE</th>\n",
              "      <th>SIZE</th>\n",
              "      <th>SIGNED_0</th>\n",
              "      <th>SIGNED_1</th>\n",
              "    </tr>\n",
              "  </thead>\n",
              "  <tbody>\n",
              "    <tr>\n",
              "      <th>0</th>\n",
              "      <td>3.993780</td>\n",
              "      <td>21.3</td>\n",
              "      <td>25.6</td>\n",
              "      <td>1</td>\n",
              "      <td>1</td>\n",
              "      <td>1</td>\n",
              "      <td>545.28</td>\n",
              "      <td>0</td>\n",
              "      <td>1</td>\n",
              "    </tr>\n",
              "    <tr>\n",
              "      <th>1</th>\n",
              "      <td>8.800000</td>\n",
              "      <td>31.9</td>\n",
              "      <td>25.6</td>\n",
              "      <td>1</td>\n",
              "      <td>2</td>\n",
              "      <td>2</td>\n",
              "      <td>816.64</td>\n",
              "      <td>0</td>\n",
              "      <td>1</td>\n",
              "    </tr>\n",
              "    <tr>\n",
              "      <th>2</th>\n",
              "      <td>0.131694</td>\n",
              "      <td>6.9</td>\n",
              "      <td>15.9</td>\n",
              "      <td>0</td>\n",
              "      <td>3</td>\n",
              "      <td>3</td>\n",
              "      <td>109.71</td>\n",
              "      <td>1</td>\n",
              "      <td>0</td>\n",
              "    </tr>\n",
              "    <tr>\n",
              "      <th>3</th>\n",
              "      <td>2.037500</td>\n",
              "      <td>25.7</td>\n",
              "      <td>32.0</td>\n",
              "      <td>1</td>\n",
              "      <td>4</td>\n",
              "      <td>2</td>\n",
              "      <td>822.40</td>\n",
              "      <td>0</td>\n",
              "      <td>1</td>\n",
              "    </tr>\n",
              "    <tr>\n",
              "      <th>4</th>\n",
              "      <td>1.487500</td>\n",
              "      <td>25.7</td>\n",
              "      <td>32.0</td>\n",
              "      <td>1</td>\n",
              "      <td>4</td>\n",
              "      <td>2</td>\n",
              "      <td>822.40</td>\n",
              "      <td>0</td>\n",
              "      <td>1</td>\n",
              "    </tr>\n",
              "    <tr>\n",
              "      <th>...</th>\n",
              "      <td>...</td>\n",
              "      <td>...</td>\n",
              "      <td>...</td>\n",
              "      <td>...</td>\n",
              "      <td>...</td>\n",
              "      <td>...</td>\n",
              "      <td>...</td>\n",
              "      <td>...</td>\n",
              "      <td>...</td>\n",
              "    </tr>\n",
              "    <tr>\n",
              "      <th>425</th>\n",
              "      <td>5.282500</td>\n",
              "      <td>25.6</td>\n",
              "      <td>39.4</td>\n",
              "      <td>1</td>\n",
              "      <td>375</td>\n",
              "      <td>1</td>\n",
              "      <td>1008.64</td>\n",
              "      <td>0</td>\n",
              "      <td>1</td>\n",
              "    </tr>\n",
              "    <tr>\n",
              "      <th>426</th>\n",
              "      <td>9.352500</td>\n",
              "      <td>25.9</td>\n",
              "      <td>39.6</td>\n",
              "      <td>1</td>\n",
              "      <td>375</td>\n",
              "      <td>2</td>\n",
              "      <td>1025.64</td>\n",
              "      <td>0</td>\n",
              "      <td>1</td>\n",
              "    </tr>\n",
              "    <tr>\n",
              "      <th>427</th>\n",
              "      <td>8.252500</td>\n",
              "      <td>25.6</td>\n",
              "      <td>39.6</td>\n",
              "      <td>1</td>\n",
              "      <td>375</td>\n",
              "      <td>1</td>\n",
              "      <td>1013.76</td>\n",
              "      <td>0</td>\n",
              "      <td>1</td>\n",
              "    </tr>\n",
              "    <tr>\n",
              "      <th>428</th>\n",
              "      <td>3.410000</td>\n",
              "      <td>25.6</td>\n",
              "      <td>39.4</td>\n",
              "      <td>1</td>\n",
              "      <td>386</td>\n",
              "      <td>2</td>\n",
              "      <td>1008.64</td>\n",
              "      <td>0</td>\n",
              "      <td>1</td>\n",
              "    </tr>\n",
              "    <tr>\n",
              "      <th>429</th>\n",
              "      <td>1.542500</td>\n",
              "      <td>25.7</td>\n",
              "      <td>32.0</td>\n",
              "      <td>1</td>\n",
              "      <td>387</td>\n",
              "      <td>1</td>\n",
              "      <td>822.40</td>\n",
              "      <td>0</td>\n",
              "      <td>1</td>\n",
              "    </tr>\n",
              "  </tbody>\n",
              "</table>\n",
              "<p>430 rows × 9 columns</p>\n",
              "</div>\n",
              "      <button class=\"colab-df-convert\" onclick=\"convertToInteractive('df-e25c523e-405e-47af-81a7-82e9d6490d6a')\"\n",
              "              title=\"Convert this dataframe to an interactive table.\"\n",
              "              style=\"display:none;\">\n",
              "        \n",
              "  <svg xmlns=\"http://www.w3.org/2000/svg\" height=\"24px\"viewBox=\"0 0 24 24\"\n",
              "       width=\"24px\">\n",
              "    <path d=\"M0 0h24v24H0V0z\" fill=\"none\"/>\n",
              "    <path d=\"M18.56 5.44l.94 2.06.94-2.06 2.06-.94-2.06-.94-.94-2.06-.94 2.06-2.06.94zm-11 1L8.5 8.5l.94-2.06 2.06-.94-2.06-.94L8.5 2.5l-.94 2.06-2.06.94zm10 10l.94 2.06.94-2.06 2.06-.94-2.06-.94-.94-2.06-.94 2.06-2.06.94z\"/><path d=\"M17.41 7.96l-1.37-1.37c-.4-.4-.92-.59-1.43-.59-.52 0-1.04.2-1.43.59L10.3 9.45l-7.72 7.72c-.78.78-.78 2.05 0 2.83L4 21.41c.39.39.9.59 1.41.59.51 0 1.02-.2 1.41-.59l7.78-7.78 2.81-2.81c.8-.78.8-2.07 0-2.86zM5.41 20L4 18.59l7.72-7.72 1.47 1.35L5.41 20z\"/>\n",
              "  </svg>\n",
              "      </button>\n",
              "      \n",
              "  <style>\n",
              "    .colab-df-container {\n",
              "      display:flex;\n",
              "      flex-wrap:wrap;\n",
              "      gap: 12px;\n",
              "    }\n",
              "\n",
              "    .colab-df-convert {\n",
              "      background-color: #E8F0FE;\n",
              "      border: none;\n",
              "      border-radius: 50%;\n",
              "      cursor: pointer;\n",
              "      display: none;\n",
              "      fill: #1967D2;\n",
              "      height: 32px;\n",
              "      padding: 0 0 0 0;\n",
              "      width: 32px;\n",
              "    }\n",
              "\n",
              "    .colab-df-convert:hover {\n",
              "      background-color: #E2EBFA;\n",
              "      box-shadow: 0px 1px 2px rgba(60, 64, 67, 0.3), 0px 1px 3px 1px rgba(60, 64, 67, 0.15);\n",
              "      fill: #174EA6;\n",
              "    }\n",
              "\n",
              "    [theme=dark] .colab-df-convert {\n",
              "      background-color: #3B4455;\n",
              "      fill: #D2E3FC;\n",
              "    }\n",
              "\n",
              "    [theme=dark] .colab-df-convert:hover {\n",
              "      background-color: #434B5C;\n",
              "      box-shadow: 0px 1px 3px 1px rgba(0, 0, 0, 0.15);\n",
              "      filter: drop-shadow(0px 1px 2px rgba(0, 0, 0, 0.3));\n",
              "      fill: #FFFFFF;\n",
              "    }\n",
              "  </style>\n",
              "\n",
              "      <script>\n",
              "        const buttonEl =\n",
              "          document.querySelector('#df-e25c523e-405e-47af-81a7-82e9d6490d6a button.colab-df-convert');\n",
              "        buttonEl.style.display =\n",
              "          google.colab.kernel.accessAllowed ? 'block' : 'none';\n",
              "\n",
              "        async function convertToInteractive(key) {\n",
              "          const element = document.querySelector('#df-e25c523e-405e-47af-81a7-82e9d6490d6a');\n",
              "          const dataTable =\n",
              "            await google.colab.kernel.invokeFunction('convertToInteractive',\n",
              "                                                     [key], {});\n",
              "          if (!dataTable) return;\n",
              "\n",
              "          const docLinkHtml = 'Like what you see? Visit the ' +\n",
              "            '<a target=\"_blank\" href=https://colab.research.google.com/notebooks/data_table.ipynb>data table notebook</a>'\n",
              "            + ' to learn more about interactive tables.';\n",
              "          element.innerHTML = '';\n",
              "          dataTable['output_type'] = 'display_data';\n",
              "          await google.colab.output.renderOutput(dataTable, element);\n",
              "          const docLink = document.createElement('div');\n",
              "          docLink.innerHTML = docLinkHtml;\n",
              "          element.appendChild(docLink);\n",
              "        }\n",
              "      </script>\n",
              "    </div>\n",
              "  </div>\n",
              "  "
            ],
            "text/plain": [
              "        PRICE  HEIGHT  WIDTH  SIGNED  ...  HOUSE      SIZE  SIGNED_0  SIGNED_1\n",
              "0    3.993780    21.3   25.6       1  ...       1   545.28         0         1\n",
              "1    8.800000    31.9   25.6       1  ...       2   816.64         0         1\n",
              "2    0.131694     6.9   15.9       0  ...       3   109.71         1         0\n",
              "3    2.037500    25.7   32.0       1  ...       2   822.40         0         1\n",
              "4    1.487500    25.7   32.0       1  ...       2   822.40         0         1\n",
              "..        ...     ...    ...     ...  ...     ...      ...       ...       ...\n",
              "425  5.282500    25.6   39.4       1  ...       1  1008.64         0         1\n",
              "426  9.352500    25.9   39.6       1  ...       2  1025.64         0         1\n",
              "427  8.252500    25.6   39.6       1  ...       1  1013.76         0         1\n",
              "428  3.410000    25.6   39.4       1  ...       2  1008.64         0         1\n",
              "429  1.542500    25.7   32.0       1  ...       1   822.40         0         1\n",
              "\n",
              "[430 rows x 9 columns]"
            ]
          },
          "metadata": {},
          "execution_count": 20
        }
      ],
      "source": [
        "df"
      ]
    },
    {
      "cell_type": "code",
      "execution_count": 21,
      "id": "c8638190",
      "metadata": {
        "id": "c8638190"
      },
      "outputs": [],
      "source": [
        "y=df[\"PRICE\"]\n",
        "x=df[[\"SIGNED\",\"PICTURE\",\"SIZE\",\"SIGNED_0\",\"SIGNED_1\"]]"
      ]
    },
    {
      "cell_type": "code",
      "execution_count": 22,
      "id": "689eb48e",
      "metadata": {
        "colab": {
          "base_uri": "https://localhost:8080/"
        },
        "id": "689eb48e",
        "outputId": "36166c8d-d655-430f-c786-ebcce438ad5d"
      },
      "outputs": [
        {
          "output_type": "execute_result",
          "data": {
            "text/plain": [
              "array([13.98633627,  5.71353246,  2.7794202 ,  1.45134008,  2.15017273,\n",
              "        3.4219981 ,  2.80436345,  3.66347501,  2.07224676, 18.22429897,\n",
              "        1.98887469,  3.72932207,  3.13433828,  3.58615685,  3.26840147,\n",
              "        2.90208514,  3.11493651, -0.93586532,  4.09716029,  3.61779974,\n",
              "        0.33819614,  3.20239842,  0.38703006,  3.59819479,  2.54330129,\n",
              "        4.99158606,  3.32225353,  3.64240194,  7.93132914,  7.02513071,\n",
              "        2.44098234,  3.18742236,  4.65356908,  4.1116437 , -0.31044313,\n",
              "        2.82954787,  2.87958039,  6.22991023,  2.44513381,  2.80975905,\n",
              "        2.36522281,  3.76754212,  2.71906846,  2.99913796, -0.42016336,\n",
              "        3.46271089,  3.71309206,  3.23074786,  4.19651553,  4.37632983,\n",
              "        3.10980382,  3.62313395,  6.93409963,  3.460713  ,  2.71737486,\n",
              "        2.19832167,  4.13448785,  3.9331226 ,  3.08956711,  3.41398853,\n",
              "        2.47412168,  2.61821613,  5.25625052,  3.02668016,  3.10980382,\n",
              "        3.628197  ,  2.69880772,  2.62049383,  2.63696682,  3.71421725,\n",
              "        0.35421951,  2.78882212,  4.62687791,  3.82299898,  1.72650198,\n",
              "        3.05138506,  2.6585484 ,  4.4492248 ,  3.3581721 ,  3.59008104,\n",
              "        2.86216042,  2.81300729,  4.44951622,  3.71017639,  3.02287342,\n",
              "        4.45456482])"
            ]
          },
          "metadata": {},
          "execution_count": 22
        }
      ],
      "source": [
        "X_train, X_test, y_train, y_test = train_test_split(x,y, train_size = 0.8)\n",
        "Lr=LinearRegression()\n",
        "Lr.fit(X_train,y_train)\n",
        "y_pred=Lr.predict(X_test)\n",
        "y_pred"
      ]
    },
    {
      "cell_type": "code",
      "execution_count": 23,
      "id": "19db7227",
      "metadata": {
        "colab": {
          "base_uri": "https://localhost:8080/"
        },
        "id": "19db7227",
        "outputId": "1b487b89-1d31-46ea-87c2-10fb33e8ca09"
      },
      "outputs": [
        {
          "output_type": "stream",
          "name": "stdout",
          "text": [
            "r2score :-  0.13958125984313663\n",
            "mean square error :-  13.363889315768784\n",
            "Root mean square error :-  3.6556653725100148\n"
          ]
        }
      ],
      "source": [
        "r2score=r2_score(y_test,y_pred)\n",
        "print(\"r2_score :- \",r2score)\n",
        "mean_sq_er_mul=mean_squared_error(y_test,y_pred)\n",
        "print(\"mean square error :- \",mean_sq_er_mul)\n",
        "root_mean_sq_error_mul=math.sqrt(mean_sq_er_mul)\n",
        "print(\"Root mean square error :- \",root_mean_sq_error_mul)"
      ]
    },
    {
      "cell_type": "code",
      "execution_count": 24,
      "id": "ba48ac5d",
      "metadata": {
        "id": "ba48ac5d"
      },
      "outputs": [],
      "source": [
        "%matplotlib inline\n",
        "from scipy.stats import skew\n",
        "import numpy as np\n",
        "from sklearn import linear_model\n",
        "from sklearn import preprocessing\n",
        "from sklearn.model_selection import train_test_split\n",
        "from sklearn.model_selection import cross_val_score"
      ]
    },
    {
      "cell_type": "code",
      "execution_count": 25,
      "id": "7008bded",
      "metadata": {
        "colab": {
          "base_uri": "https://localhost:8080/"
        },
        "id": "7008bded",
        "outputId": "f1e5caed-e94d-403a-ece9-b6c8fb3b888b"
      },
      "outputs": [
        {
          "output_type": "stream",
          "name": "stdout",
          "text": [
            "PRICE  :  2.8309820163618893\n",
            "HEIGHT  :  1.8263892242940685\n",
            "WIDTH  :  2.048113094558297\n",
            "SIGNED  :  -1.674080612166068\n",
            "PICTURE  :  0.07007980158027305\n",
            "HOUSE   :  0.3733324102363447\n",
            "SIZE  :  3.8831941413460154\n",
            "SIGNED_0  :  1.674080612166068\n",
            "SIGNED_1  :  -1.674080612166068\n"
          ]
        }
      ],
      "source": [
        "for col in df.columns:\n",
        "    if df.dtypes[col] != np.object:\n",
        "        print(col ,' : ' , skew(df[col], axis=0, bias=True, nan_policy='omit'))"
      ]
    },
    {
      "cell_type": "code",
      "execution_count": 26,
      "id": "448748b3",
      "metadata": {
        "id": "448748b3"
      },
      "outputs": [],
      "source": [
        "# Log transform below variables\n",
        "transform_col = ['PRICE','HEIGHT','WIDTH','SIZE']\n",
        "df_log_data = df[transform_col].applymap(lambda x: np.log(x+1))\n",
        "\n",
        "# rename columns\n",
        "df_log_data.columns = 'log_' + df_log_data.columns"
      ]
    },
    {
      "cell_type": "code",
      "execution_count": 27,
      "id": "f47f6ee8",
      "metadata": {
        "colab": {
          "base_uri": "https://localhost:8080/"
        },
        "id": "f47f6ee8",
        "outputId": "1a60e361-569f-4bbc-e1bb-f0b9e8b1e7c4"
      },
      "outputs": [
        {
          "output_type": "execute_result",
          "data": {
            "text/plain": [
              "log_PRICE     0.837605\n",
              "log_HEIGHT   -0.469233\n",
              "log_WIDTH    -0.590784\n",
              "log_SIZE     -0.824549\n",
              "dtype: float64"
            ]
          },
          "metadata": {},
          "execution_count": 27
        }
      ],
      "source": [
        "df_log_data.skew()"
      ]
    },
    {
      "cell_type": "code",
      "execution_count": 28,
      "id": "8c4903d4",
      "metadata": {
        "colab": {
          "base_uri": "https://localhost:8080/",
          "height": 423
        },
        "id": "8c4903d4",
        "outputId": "2042fa4d-80bb-4627-ae13-40204e99be77"
      },
      "outputs": [
        {
          "output_type": "execute_result",
          "data": {
            "text/html": [
              "\n",
              "  <div id=\"df-5cb6a8fd-9a41-4e06-b01d-1b57db5ab97e\">\n",
              "    <div class=\"colab-df-container\">\n",
              "      <div>\n",
              "<style scoped>\n",
              "    .dataframe tbody tr th:only-of-type {\n",
              "        vertical-align: middle;\n",
              "    }\n",
              "\n",
              "    .dataframe tbody tr th {\n",
              "        vertical-align: top;\n",
              "    }\n",
              "\n",
              "    .dataframe thead th {\n",
              "        text-align: right;\n",
              "    }\n",
              "</style>\n",
              "<table border=\"1\" class=\"dataframe\">\n",
              "  <thead>\n",
              "    <tr style=\"text-align: right;\">\n",
              "      <th></th>\n",
              "      <th>PRICE</th>\n",
              "      <th>HEIGHT</th>\n",
              "      <th>WIDTH</th>\n",
              "      <th>SIGNED</th>\n",
              "      <th>PICTURE</th>\n",
              "      <th>HOUSE</th>\n",
              "      <th>SIZE</th>\n",
              "      <th>SIGNED_0</th>\n",
              "      <th>SIGNED_1</th>\n",
              "      <th>log_PRICE</th>\n",
              "      <th>log_HEIGHT</th>\n",
              "      <th>log_WIDTH</th>\n",
              "      <th>log_SIZE</th>\n",
              "    </tr>\n",
              "  </thead>\n",
              "  <tbody>\n",
              "    <tr>\n",
              "      <th>0</th>\n",
              "      <td>3.993780</td>\n",
              "      <td>21.3</td>\n",
              "      <td>25.6</td>\n",
              "      <td>1</td>\n",
              "      <td>1</td>\n",
              "      <td>1</td>\n",
              "      <td>545.28</td>\n",
              "      <td>0</td>\n",
              "      <td>1</td>\n",
              "      <td>1.608193</td>\n",
              "      <td>3.104587</td>\n",
              "      <td>3.280911</td>\n",
              "      <td>6.303132</td>\n",
              "    </tr>\n",
              "    <tr>\n",
              "      <th>1</th>\n",
              "      <td>8.800000</td>\n",
              "      <td>31.9</td>\n",
              "      <td>25.6</td>\n",
              "      <td>1</td>\n",
              "      <td>2</td>\n",
              "      <td>2</td>\n",
              "      <td>816.64</td>\n",
              "      <td>0</td>\n",
              "      <td>1</td>\n",
              "      <td>2.282382</td>\n",
              "      <td>3.493473</td>\n",
              "      <td>3.280911</td>\n",
              "      <td>6.706422</td>\n",
              "    </tr>\n",
              "    <tr>\n",
              "      <th>2</th>\n",
              "      <td>0.131694</td>\n",
              "      <td>6.9</td>\n",
              "      <td>15.9</td>\n",
              "      <td>0</td>\n",
              "      <td>3</td>\n",
              "      <td>3</td>\n",
              "      <td>109.71</td>\n",
              "      <td>1</td>\n",
              "      <td>0</td>\n",
              "      <td>0.123716</td>\n",
              "      <td>2.066863</td>\n",
              "      <td>2.827314</td>\n",
              "      <td>4.706914</td>\n",
              "    </tr>\n",
              "    <tr>\n",
              "      <th>3</th>\n",
              "      <td>2.037500</td>\n",
              "      <td>25.7</td>\n",
              "      <td>32.0</td>\n",
              "      <td>1</td>\n",
              "      <td>4</td>\n",
              "      <td>2</td>\n",
              "      <td>822.40</td>\n",
              "      <td>0</td>\n",
              "      <td>1</td>\n",
              "      <td>1.111035</td>\n",
              "      <td>3.284664</td>\n",
              "      <td>3.496508</td>\n",
              "      <td>6.713442</td>\n",
              "    </tr>\n",
              "    <tr>\n",
              "      <th>4</th>\n",
              "      <td>1.487500</td>\n",
              "      <td>25.7</td>\n",
              "      <td>32.0</td>\n",
              "      <td>1</td>\n",
              "      <td>4</td>\n",
              "      <td>2</td>\n",
              "      <td>822.40</td>\n",
              "      <td>0</td>\n",
              "      <td>1</td>\n",
              "      <td>0.911278</td>\n",
              "      <td>3.284664</td>\n",
              "      <td>3.496508</td>\n",
              "      <td>6.713442</td>\n",
              "    </tr>\n",
              "    <tr>\n",
              "      <th>...</th>\n",
              "      <td>...</td>\n",
              "      <td>...</td>\n",
              "      <td>...</td>\n",
              "      <td>...</td>\n",
              "      <td>...</td>\n",
              "      <td>...</td>\n",
              "      <td>...</td>\n",
              "      <td>...</td>\n",
              "      <td>...</td>\n",
              "      <td>...</td>\n",
              "      <td>...</td>\n",
              "      <td>...</td>\n",
              "      <td>...</td>\n",
              "    </tr>\n",
              "    <tr>\n",
              "      <th>425</th>\n",
              "      <td>5.282500</td>\n",
              "      <td>25.6</td>\n",
              "      <td>39.4</td>\n",
              "      <td>1</td>\n",
              "      <td>375</td>\n",
              "      <td>1</td>\n",
              "      <td>1008.64</td>\n",
              "      <td>0</td>\n",
              "      <td>1</td>\n",
              "      <td>1.837768</td>\n",
              "      <td>3.280911</td>\n",
              "      <td>3.698830</td>\n",
              "      <td>6.917349</td>\n",
              "    </tr>\n",
              "    <tr>\n",
              "      <th>426</th>\n",
              "      <td>9.352500</td>\n",
              "      <td>25.9</td>\n",
              "      <td>39.6</td>\n",
              "      <td>1</td>\n",
              "      <td>375</td>\n",
              "      <td>2</td>\n",
              "      <td>1025.64</td>\n",
              "      <td>0</td>\n",
              "      <td>1</td>\n",
              "      <td>2.337228</td>\n",
              "      <td>3.292126</td>\n",
              "      <td>3.703768</td>\n",
              "      <td>6.934047</td>\n",
              "    </tr>\n",
              "    <tr>\n",
              "      <th>427</th>\n",
              "      <td>8.252500</td>\n",
              "      <td>25.6</td>\n",
              "      <td>39.6</td>\n",
              "      <td>1</td>\n",
              "      <td>375</td>\n",
              "      <td>1</td>\n",
              "      <td>1013.76</td>\n",
              "      <td>0</td>\n",
              "      <td>1</td>\n",
              "      <td>2.224894</td>\n",
              "      <td>3.280911</td>\n",
              "      <td>3.703768</td>\n",
              "      <td>6.922407</td>\n",
              "    </tr>\n",
              "    <tr>\n",
              "      <th>428</th>\n",
              "      <td>3.410000</td>\n",
              "      <td>25.6</td>\n",
              "      <td>39.4</td>\n",
              "      <td>1</td>\n",
              "      <td>386</td>\n",
              "      <td>2</td>\n",
              "      <td>1008.64</td>\n",
              "      <td>0</td>\n",
              "      <td>1</td>\n",
              "      <td>1.483875</td>\n",
              "      <td>3.280911</td>\n",
              "      <td>3.698830</td>\n",
              "      <td>6.917349</td>\n",
              "    </tr>\n",
              "    <tr>\n",
              "      <th>429</th>\n",
              "      <td>1.542500</td>\n",
              "      <td>25.7</td>\n",
              "      <td>32.0</td>\n",
              "      <td>1</td>\n",
              "      <td>387</td>\n",
              "      <td>1</td>\n",
              "      <td>822.40</td>\n",
              "      <td>0</td>\n",
              "      <td>1</td>\n",
              "      <td>0.933148</td>\n",
              "      <td>3.284664</td>\n",
              "      <td>3.496508</td>\n",
              "      <td>6.713442</td>\n",
              "    </tr>\n",
              "  </tbody>\n",
              "</table>\n",
              "<p>430 rows × 13 columns</p>\n",
              "</div>\n",
              "      <button class=\"colab-df-convert\" onclick=\"convertToInteractive('df-5cb6a8fd-9a41-4e06-b01d-1b57db5ab97e')\"\n",
              "              title=\"Convert this dataframe to an interactive table.\"\n",
              "              style=\"display:none;\">\n",
              "        \n",
              "  <svg xmlns=\"http://www.w3.org/2000/svg\" height=\"24px\"viewBox=\"0 0 24 24\"\n",
              "       width=\"24px\">\n",
              "    <path d=\"M0 0h24v24H0V0z\" fill=\"none\"/>\n",
              "    <path d=\"M18.56 5.44l.94 2.06.94-2.06 2.06-.94-2.06-.94-.94-2.06-.94 2.06-2.06.94zm-11 1L8.5 8.5l.94-2.06 2.06-.94-2.06-.94L8.5 2.5l-.94 2.06-2.06.94zm10 10l.94 2.06.94-2.06 2.06-.94-2.06-.94-.94-2.06-.94 2.06-2.06.94z\"/><path d=\"M17.41 7.96l-1.37-1.37c-.4-.4-.92-.59-1.43-.59-.52 0-1.04.2-1.43.59L10.3 9.45l-7.72 7.72c-.78.78-.78 2.05 0 2.83L4 21.41c.39.39.9.59 1.41.59.51 0 1.02-.2 1.41-.59l7.78-7.78 2.81-2.81c.8-.78.8-2.07 0-2.86zM5.41 20L4 18.59l7.72-7.72 1.47 1.35L5.41 20z\"/>\n",
              "  </svg>\n",
              "      </button>\n",
              "      \n",
              "  <style>\n",
              "    .colab-df-container {\n",
              "      display:flex;\n",
              "      flex-wrap:wrap;\n",
              "      gap: 12px;\n",
              "    }\n",
              "\n",
              "    .colab-df-convert {\n",
              "      background-color: #E8F0FE;\n",
              "      border: none;\n",
              "      border-radius: 50%;\n",
              "      cursor: pointer;\n",
              "      display: none;\n",
              "      fill: #1967D2;\n",
              "      height: 32px;\n",
              "      padding: 0 0 0 0;\n",
              "      width: 32px;\n",
              "    }\n",
              "\n",
              "    .colab-df-convert:hover {\n",
              "      background-color: #E2EBFA;\n",
              "      box-shadow: 0px 1px 2px rgba(60, 64, 67, 0.3), 0px 1px 3px 1px rgba(60, 64, 67, 0.15);\n",
              "      fill: #174EA6;\n",
              "    }\n",
              "\n",
              "    [theme=dark] .colab-df-convert {\n",
              "      background-color: #3B4455;\n",
              "      fill: #D2E3FC;\n",
              "    }\n",
              "\n",
              "    [theme=dark] .colab-df-convert:hover {\n",
              "      background-color: #434B5C;\n",
              "      box-shadow: 0px 1px 3px 1px rgba(0, 0, 0, 0.15);\n",
              "      filter: drop-shadow(0px 1px 2px rgba(0, 0, 0, 0.3));\n",
              "      fill: #FFFFFF;\n",
              "    }\n",
              "  </style>\n",
              "\n",
              "      <script>\n",
              "        const buttonEl =\n",
              "          document.querySelector('#df-5cb6a8fd-9a41-4e06-b01d-1b57db5ab97e button.colab-df-convert');\n",
              "        buttonEl.style.display =\n",
              "          google.colab.kernel.accessAllowed ? 'block' : 'none';\n",
              "\n",
              "        async function convertToInteractive(key) {\n",
              "          const element = document.querySelector('#df-5cb6a8fd-9a41-4e06-b01d-1b57db5ab97e');\n",
              "          const dataTable =\n",
              "            await google.colab.kernel.invokeFunction('convertToInteractive',\n",
              "                                                     [key], {});\n",
              "          if (!dataTable) return;\n",
              "\n",
              "          const docLinkHtml = 'Like what you see? Visit the ' +\n",
              "            '<a target=\"_blank\" href=https://colab.research.google.com/notebooks/data_table.ipynb>data table notebook</a>'\n",
              "            + ' to learn more about interactive tables.';\n",
              "          element.innerHTML = '';\n",
              "          dataTable['output_type'] = 'display_data';\n",
              "          await google.colab.output.renderOutput(dataTable, element);\n",
              "          const docLink = document.createElement('div');\n",
              "          docLink.innerHTML = docLinkHtml;\n",
              "          element.appendChild(docLink);\n",
              "        }\n",
              "      </script>\n",
              "    </div>\n",
              "  </div>\n",
              "  "
            ],
            "text/plain": [
              "        PRICE  HEIGHT  WIDTH  ...  log_HEIGHT  log_WIDTH  log_SIZE\n",
              "0    3.993780    21.3   25.6  ...    3.104587   3.280911  6.303132\n",
              "1    8.800000    31.9   25.6  ...    3.493473   3.280911  6.706422\n",
              "2    0.131694     6.9   15.9  ...    2.066863   2.827314  4.706914\n",
              "3    2.037500    25.7   32.0  ...    3.284664   3.496508  6.713442\n",
              "4    1.487500    25.7   32.0  ...    3.284664   3.496508  6.713442\n",
              "..        ...     ...    ...  ...         ...        ...       ...\n",
              "425  5.282500    25.6   39.4  ...    3.280911   3.698830  6.917349\n",
              "426  9.352500    25.9   39.6  ...    3.292126   3.703768  6.934047\n",
              "427  8.252500    25.6   39.6  ...    3.280911   3.703768  6.922407\n",
              "428  3.410000    25.6   39.4  ...    3.280911   3.698830  6.917349\n",
              "429  1.542500    25.7   32.0  ...    3.284664   3.496508  6.713442\n",
              "\n",
              "[430 rows x 13 columns]"
            ]
          },
          "metadata": {},
          "execution_count": 28
        }
      ],
      "source": [
        "Log_Data_df = pd.concat([df,df_log_data], axis=1)\n",
        "Log_Data_df"
      ]
    },
    {
      "cell_type": "code",
      "execution_count": 30,
      "id": "6747a7c2",
      "metadata": {
        "colab": {
          "base_uri": "https://localhost:8080/",
          "height": 606
        },
        "id": "6747a7c2",
        "outputId": "93bf789c-ab89-4c6f-e53f-8d1745b6179c"
      },
      "outputs": [
        {
          "output_type": "display_data",
          "data": {
            "image/png": "[encoded data removed]",
            "text/plain": [
              "<Figure size 1440x720 with 1 Axes>"
            ]
          },
          "metadata": {
            "needs_background": "light"
          }
        }
      ],
      "source": [
        "# Simple Linear Regression model 1\n",
        "X = Log_Data_df[['log_WIDTH']].values\n",
        "y= Log_Data_df['log_PRICE'].values\n",
        "X_train, X_test, y_train, y_test = train_test_split(X, y, test_size=0.2, random_state=0)\n",
        "\n",
        "lr_model1 = linear_model.LinearRegression()\n",
        "lr_model1.fit(X_train, y_train)\n",
        "\n",
        "y_pred = lr_model1.predict(X_test)\n",
        "\n",
        "price_df = pd.DataFrame({'Actual Price': y_test, 'Predicted Price': y_pred})\n",
        "\n",
        "# Linear Regression plot for this model 1\n",
        "fig, ax = plt.subplots(figsize=(20,10))\n",
        "plt.scatter(X_train, y_train)\n",
        "plt.plot(X_test, y_pred, color = 'red')\n",
        "plt.xlabel(\"log_size\")\n",
        "plt.ylabel(\"log_price\")\n",
        "plt.show()"
      ]
    },
    {
      "cell_type": "code",
      "execution_count": 32,
      "id": "dafce2e9",
      "metadata": {
        "colab": {
          "base_uri": "https://localhost:8080/",
          "height": 641
        },
        "id": "dafce2e9",
        "outputId": "5e3a66d3-0887-491a-80c8-476de8f6e37d"
      },
      "outputs": [
        {
          "output_type": "stream",
          "name": "stdout",
          "text": [
            "Root Mean Square Error :-  0.7520985508679694\n",
            "Mean ABsolute Error :-  0.6150398000747092\n"
          ]
        },
        {
          "output_type": "display_data",
          "data": {
            "image/png": "[encoded data removed]",
            "text/plain": [
              "<Figure size 1440x720 with 1 Axes>"
            ]
          },
          "metadata": {
            "needs_background": "light"
          }
        }
      ],
      "source": [
        "# Simple Linear Regression model\n",
        "\n",
        "# Checking the accuracy of the model using Loss functions\n",
        "# Mean Square Error/Quadratic Loss/L2 Loss\n",
        "import sklearn.metrics as metrics\n",
        "root_mean_square_error = np.sqrt(metrics.mean_squared_error(y_test, y_pred))\n",
        "print(\"Root Mean Square Error :- \",root_mean_square_error)\n",
        "\n",
        "# Mean Absolute Error/L1 Loss\n",
        "\n",
        "mean_absolute_error = metrics.mean_absolute_error(y_test, y_pred)\n",
        "print(\"Mean ABsolute Error :- \",mean_absolute_error)\n",
        "\n",
        "\n",
        "X = Log_Data_df[['log_WIDTH']].values\n",
        "y= Log_Data_df['log_PRICE'].values\n",
        "\n",
        "X_train, X_test, y_train, y_test = train_test_split(X, y, test_size=0.2, random_state=0)\n",
        "\n",
        "lr_model2 = linear_model.LinearRegression()\n",
        "lr_model2.fit(X_train, y_train)\n",
        "\n",
        "y_pred = lr_model1.predict(X_test)\n",
        "\n",
        "price_df = pd.DataFrame({'Actual Price': y_test, 'Predicted Price': y_pred})\n",
        "\n",
        "\n",
        "# Linear Regression plot for this model 2\n",
        "fig, ax = plt.subplots(figsize=(20,10))\n",
        "plt.scatter(X_train, y_train)\n",
        "plt.plot(X_test, y_pred, color = 'red')\n",
        "plt.xlabel(\"log_width\")\n",
        "plt.ylabel(\"log_price\")\n",
        "plt.show()"
      ]
    },
    {
      "cell_type": "code",
      "execution_count": 33,
      "id": "7f18cbad",
      "metadata": {
        "colab": {
          "base_uri": "https://localhost:8080/"
        },
        "id": "7f18cbad",
        "outputId": "83373a22-d5cb-4ade-fe34-5b71668451ad"
      },
      "outputs": [
        {
          "output_type": "stream",
          "name": "stdout",
          "text": [
            "Root Mean Square Error :-  0.7520985508679694\n",
            "Mean ABsolute Error :-  0.6150398000747092\n",
            "Root Mean Square Error :-  0.6659217596868569\n",
            "Mean Absolute error :-  0.5247231807781941\n"
          ]
        }
      ],
      "source": [
        "root_mean_square_error = np.sqrt(metrics.mean_squared_error(y_test, y_pred))\n",
        "print(\"Root Mean Square Error :- \",root_mean_square_error)\n",
        "\n",
        "# Mean Absolute Error/L1 Loss\n",
        "mean_absolute_error = metrics.mean_absolute_error(y_test, y_pred)\n",
        "print(\"Mean ABsolute Error :- \",mean_absolute_error)\n",
        "\n",
        "# Multiple Linear Regression model 3\n",
        "X = Log_Data_df[['log_WIDTH', 'log_HEIGHT','log_SIZE','SIGNED','PICTURE', 'HOUSE ']].values\n",
        "y= Log_Data_df['log_PRICE'].values\n",
        "\n",
        "X_train, X_test, y_train, y_test = train_test_split(X, y, test_size=0.2, random_state=0)\n",
        "\n",
        "lr_model3 = linear_model.LinearRegression()\n",
        "lr_model3.fit(X_train, y_train)\n",
        "\n",
        "y_pred = lr_model3.predict(X_test)\n",
        "\n",
        "price_df = pd.DataFrame({'Actual Price': y_test, 'Predicted Price': y_pred})\n",
        "\n",
        "root_mean_square_error = np.sqrt(metrics.mean_squared_error(y_test, y_pred))\n",
        "print(\"Root Mean Square Error :- \",root_mean_square_error)\n",
        "\n",
        "mean_absolute_error = metrics.mean_absolute_error(y_test, y_pred)\n",
        "print(\"Mean Absolute error :- \",mean_absolute_error)\n"
      ]
    },
    {
      "cell_type": "code",
      "execution_count": null,
      "id": "53bf33b2",
      "metadata": {
        "id": "53bf33b2"
      },
      "outputs": [],
      "source": [
        ""
      ]
    },
    {
      "cell_type": "code",
      "execution_count": null,
      "id": "fded5a82",
      "metadata": {
        "id": "fded5a82"
      },
      "outputs": [],
      "source": [
        ""
      ]
    },
    {
      "cell_type": "code",
      "execution_count": null,
      "id": "6dd01fcc",
      "metadata": {
        "id": "6dd01fcc"
      },
      "outputs": [],
      "source": [
        ""
      ]
    }
  ],
  "metadata": {
    "kernelspec": {
      "display_name": "Python 3",
      "language": "python",
      "name": "python3"
    },
    "language_info": {
      "codemirror_mode": {
        "name": "ipython",
        "version": 3
      },
      "file_extension": ".py",
      "mimetype": "text/x-python",
      "name": "python",
      "nbconvert_exporter": "python",
      "pygments_lexer": "ipython3",
      "version": "3.8.8"
    },
    "colab": {
      "name": "Jyothshna.ipynb",
      "provenance": [],
      "collapsed_sections": []
    }
  },
  "nbformat": 4,
  "nbformat_minor": 5
}