{
  "nbformat": 4,
  "nbformat_minor": 0,
  "metadata": {
    "colab": {
      "name": "Epanagandla_Assignment4.ipynb",
      "private_outputs": true,
      "provenance": [],
      "collapsed_sections": []
    },
    "kernelspec": {
      "name": "python3",
      "display_name": "Python 3"
    },
    "language_info": {
      "name": "python"
    }
  },
  "cells": [
    {
      "cell_type": "code",
      "execution_count": null,
      "metadata": {
        "id": "r6R_CAbas6L0"
      },
      "outputs": [],
      "source": [
        "#importing necessary package\n",
        "import pandas as pd"
      ]
    },
    {
      "cell_type": "code",
      "source": [
        "#loading given data set\n",
        "data_frame1 = pd.read_csv(\"data-breastCancer.csv\", index_col=0)"
      ],
      "metadata": {
        "id": "9mEq9yEfOfE-"
      },
      "execution_count": null,
      "outputs": []
    },
    {
      "cell_type": "code",
      "source": [
        "data_frame1.head()"
      ],
      "metadata": {
        "id": "gUs2nfklO8yp"
      },
      "execution_count": null,
      "outputs": []
    },
    {
      "cell_type": "code",
      "source": [
        "data_frame1.tail()"
      ],
      "metadata": {
        "id": "z_QuWBeUO-Vs"
      },
      "execution_count": null,
      "outputs": []
    },
    {
      "cell_type": "code",
      "source": [
        "data_frame1.info()"
      ],
      "metadata": {
        "id": "3EwLqTlwP_TN"
      },
      "execution_count": null,
      "outputs": []
    },
    {
      "cell_type": "code",
      "source": [
        "data_frame1.shape"
      ],
      "metadata": {
        "id": "lRx7CKLUQIDZ"
      },
      "execution_count": null,
      "outputs": []
    },
    {
      "cell_type": "code",
      "source": [
        "data_frame1.describe()"
      ],
      "metadata": {
        "id": "aDTrF4DlQM9P"
      },
      "execution_count": null,
      "outputs": []
    },
    {
      "cell_type": "code",
      "source": [
        "data_frame1.columns"
      ],
      "metadata": {
        "id": "pRtB7mg2QR7I"
      },
      "execution_count": null,
      "outputs": []
    },
    {
      "cell_type": "code",
      "source": [
        "from numpy.ma.core import count\n",
        "count(data_frame1.columns)"
      ],
      "metadata": {
        "id": "1B16zzGnSbJW"
      },
      "execution_count": null,
      "outputs": []
    },
    {
      "cell_type": "code",
      "source": [
        "data_frame2= data_frame1.drop(['Unnamed: 32'],axis=1)"
      ],
      "metadata": {
        "id": "50KOJKx0Q6fA"
      },
      "execution_count": null,
      "outputs": []
    },
    {
      "cell_type": "code",
      "source": [
        "data_frame2"
      ],
      "metadata": {
        "id": "ttBxtyWKRMBL"
      },
      "execution_count": null,
      "outputs": []
    },
    {
      "cell_type": "code",
      "source": [
        "data_frame2.shape"
      ],
      "metadata": {
        "id": "9WOoQhawRovB"
      },
      "execution_count": null,
      "outputs": []
    },
    {
      "cell_type": "code",
      "source": [
        "data_frame2.columns"
      ],
      "metadata": {
        "id": "1EoQRb6nRtV4"
      },
      "execution_count": null,
      "outputs": []
    },
    {
      "cell_type": "code",
      "source": [
        "data_frame2.dtypes"
      ],
      "metadata": {
        "id": "rzwtmuV1Rwbf"
      },
      "execution_count": null,
      "outputs": []
    },
    {
      "cell_type": "code",
      "source": [
        "data_frame2['diagnosis_value'] = data_frame2['diagnosis'].map({'M':1, 'B':0})"
      ],
      "metadata": {
        "id": "cXBRl1uHS_ht"
      },
      "execution_count": null,
      "outputs": []
    },
    {
      "cell_type": "code",
      "source": [
        "data_frame2.columns"
      ],
      "metadata": {
        "id": "lRmF5M8DTRN1"
      },
      "execution_count": null,
      "outputs": []
    },
    {
      "cell_type": "code",
      "source": [
        "data_frame2 = data_frame2.drop(['diagnosis'],axis=1)"
      ],
      "metadata": {
        "id": "SfvEyYVSTR2G"
      },
      "execution_count": null,
      "outputs": []
    },
    {
      "cell_type": "code",
      "source": [
        "data_frame2.dtypes"
      ],
      "metadata": {
        "id": "q4NufBx-TeeW"
      },
      "execution_count": null,
      "outputs": []
    },
    {
      "cell_type": "code",
      "source": [
        "data_frame2.shape"
      ],
      "metadata": {
        "id": "36PHmxpJTqB2"
      },
      "execution_count": null,
      "outputs": []
    },
    {
      "cell_type": "code",
      "source": [
        "data_frame2.isnull().sum()"
      ],
      "metadata": {
        "id": "Rd3_sB9oU0pX"
      },
      "execution_count": null,
      "outputs": []
    },
    {
      "cell_type": "code",
      "source": [
        "#importing seaborn package\n",
        "import seaborn as sns\n",
        "sns.countplot(x='diagnosis_value', data=data_frame2)\n",
        "print(data_frame2['diagnosis_value'].value_counts())\n",
        "X = data_frame2.drop(labels='diagnosis_value', axis=1)\n",
        "y = data_frame2['diagnosis_value']"
      ],
      "metadata": {
        "id": "UfFsOy1eVN7G"
      },
      "execution_count": null,
      "outputs": []
    },
    {
      "cell_type": "code",
      "source": [
        "from sklearn.model_selection import train_test_split\n",
        "X_train, X_test, y_train, y_test = train_test_split(X, y, test_size=0.2, random_state=42)\n",
        "print ('Shapes of X_train, y_train: ', X_train.shape, y_train.shape)\n",
        "print ('Shapes of X_test, y_test: ', X_test.shape, y_test.shape)"
      ],
      "metadata": {
        "id": "wtE9gj87XrB1"
      },
      "execution_count": null,
      "outputs": []
    },
    {
      "cell_type": "code",
      "source": [
        "from sklearn.ensemble import RandomForestClassifier\n",
        "from sklearn.model_selection import cross_validate\n",
        "import numpy as np\n",
        "RandomFirst_C = RandomForestClassifier(random_state=42)\n",
        "np.random.seed(42)\n",
        "Cross_Val = cross_validate (RandomFirst_C, X_train, y_train, cv = 10)"
      ],
      "metadata": {
        "id": "inChxXKQX0V6"
      },
      "execution_count": null,
      "outputs": []
    },
    {
      "cell_type": "code",
      "source": [
        "print(\"10-fold cross val accuracy score: \", Cross_Val['test_score'])\n",
        "print(\"cross val accuracy mean score: \", Cross_Val['test_score'].mean())"
      ],
      "metadata": {
        "id": "KTFhDh5kCuHS"
      },
      "execution_count": null,
      "outputs": []
    },
    {
      "cell_type": "code",
      "source": [
        "param_d = {'max_depth': [2, 3, 4],\n",
        "              'bootstrap': [True, False],\n",
        "              'max_features': ['auto', 'sqrt', 'log2', None],\n",
        "              'criterion': ['gini', 'entropy']}"
      ],
      "metadata": {
        "id": "AXdo4KvKziH5"
      },
      "execution_count": null,
      "outputs": []
    },
    {
      "cell_type": "code",
      "source": [
        "from sklearn.model_selection import GridSearchCV\n",
        "RandomForest_CV = GridSearchCV(RandomFirst_C , cv = 10,\n",
        "                     param_grid=param_d, \n",
        "                     n_jobs = 3)\n",
        "RandomForest_CV.fit(X_train, y_train)"
      ],
      "metadata": {
        "id": "JNRmiyenz6Xv"
      },
      "execution_count": null,
      "outputs": []
    },
    {
      "cell_type": "code",
      "source": [
        "print('Best Parameters using grid search: {0}'.format(RandomForest_CV.best_params_))"
      ],
      "metadata": {
        "id": "ceMC9dHu0cOL"
      },
      "execution_count": null,
      "outputs": []
    },
    {
      "cell_type": "code",
      "source": [
        "from sklearn.ensemble import BaggingClassifier\n",
        "from sklearn.model_selection import RepeatedStratifiedKFold\n",
        "from sklearn.model_selection import cross_val_score\n",
        "baggingClass_fier = BaggingClassifier()\n",
        "ClassV = RepeatedStratifiedKFold(n_splits=10, n_repeats=3, random_state=42)\n",
        "score_s = cross_val_score(baggingClass_fier, X, y, scoring='roc_auc', cv=ClassV, n_jobs=-1)"
      ],
      "metadata": {
        "id": "QUqAND9n1w6N"
      },
      "execution_count": null,
      "outputs": []
    },
    {
      "cell_type": "code",
      "source": [
        "from numpy import mean\n",
        "print('BaggingClassifier model Mean: %.2f' % mean(score_s))"
      ],
      "metadata": {
        "id": "VG03VRgs2R7q"
      },
      "execution_count": null,
      "outputs": []
    },
    {
      "cell_type": "code",
      "source": [
        "cross_valid = cross_validate (baggingClass_fier, X_train, y_train, cv = 10)\n",
        "print(\"Tenfold cross validation accuracy score: \", cross_valid['test_score'])\n",
        "print(\"Accuracy mean score bagging classifier score: \", cross_valid['test_score'].mean())"
      ],
      "metadata": {
        "id": "ePReYTwoEZZs"
      },
      "execution_count": null,
      "outputs": []
    },
    {
      "cell_type": "code",
      "source": [
        "baggingClass_fier.fit(X_train, y_train)\n",
        "#Prediction on test set by using model\n",
        "pred = baggingClass_fier.predict(X_test)\n",
        "#probability of classes in the test set observation\n",
        "predictionProbability = baggingClass_fier.predict_proba (X_test)\n",
        "print ('class_0','\\t', 'class_1')\n",
        "print(predictionProbability[:5])"
      ],
      "metadata": {
        "id": "8HRK5MYxEwfL"
      },
      "execution_count": null,
      "outputs": []
    },
    {
      "cell_type": "code",
      "source": [
        "#Accuracy scores of test set\n",
        "print('BaggingClassifier model Accuracy of the selected model in the test set: {:.2f}'.format(baggingClass_fier.score(X_test, y_test)))"
      ],
      "metadata": {
        "id": "AkHaIrBpEwk0"
      },
      "execution_count": null,
      "outputs": []
    },
    {
      "cell_type": "code",
      "source": [
        "import matplotlib.pyplot as plyt\n",
        "#confusion matrix\n",
        "from sklearn.metrics import confusion_matrix\n",
        "confusionMatrix = confusion_matrix(y_test, pred )\n",
        "sns.heatmap(confusionMatrix, annot = True)\n",
        "plyt.xlabel ('Values predicted')\n",
        "plyt.ylabel ('actual values')"
      ],
      "metadata": {
        "id": "znqJYvHoFil0"
      },
      "execution_count": null,
      "outputs": []
    },
    {
      "cell_type": "code",
      "source": [
        "from sklearn.metrics import roc_curve, roc_auc_score\n",
        "pred_prob_c1 = predictionProbability[:,1]\n",
        "fpr, tpr, threshold = roc_curve (y_test,pred_prob_c1, pos_label = 1)\n",
        "roc_auc_score = roc_auc_score (y_test,pred_prob_c1)\n",
        "print(\"BaggingClassifier model roc auc score {:.2f}\".format(roc_auc_score))"
      ],
      "metadata": {
        "id": "POwpSheoEwtG"
      },
      "execution_count": null,
      "outputs": []
    },
    {
      "cell_type": "code",
      "source": [
        "# Visualization of ROC score\n",
        "plyt.subplots(figsize = (20,5))\n",
        "plyt.plot( fpr, tpr, label='BaggingClassifier model Test AUC: %0.2f'%roc_auc_score)\n",
        "plyt.plot([0,1], '--')\n",
        "plyt.xlabel('BaggingClassifier model False Positive Rate')\n",
        "plyt.ylabel('BaggingClassifier model True Positive Rate')\n",
        "plyt.title (\"BaggingClassifier model ROC Curve (AUC = {:.2f})\".format(roc_auc_score))\n",
        "plyt.grid()\n",
        "plyt.show();"
      ],
      "metadata": {
        "id": "RhpcpfOuEwv7"
      },
      "execution_count": null,
      "outputs": []
    },
    {
      "cell_type": "code",
      "source": [
        "from sklearn.model_selection import RandomizedSearchCV\n",
        "random_grid = {'n_estimators' :[int(x) for x in np.linspace(start = 100, stop = 1000, num = 10, endpoint = True)],\n",
        "             'max_features': ['auto', 'sqrt', 'log2'],\n",
        "             'max_depth': [int(x) for x in np.linspace(start = 3, stop = 36, num=33, endpoint = True)],\n",
        "             'min_samples_split': [5, 10, 15],\n",
        "             'min_samples_leaf': [3, 4, 5], \n",
        "             'bootstrap': ['True']}\n",
        "print(random_grid)"
      ],
      "metadata": {
        "id": "-70t9xYWEw7W"
      },
      "execution_count": null,
      "outputs": []
    },
    {
      "cell_type": "code",
      "source": [
        "#tuning for base randomforest model\n",
        "tune_base_rf = RandomForestClassifier(random_state=42)\n",
        "randomSearch_rf = RandomizedSearchCV (estimator=tune_base_rf, param_distributions  = random_grid, random_state=42, cv = 10, n_iter=100)\n",
        "randomSearch_rf.fit(X_train, y_train)\n",
        "randomSearch_rf.best_params_"
      ],
      "metadata": {
        "id": "z-Fa6-qUEw-H"
      },
      "execution_count": null,
      "outputs": []
    },
    {
      "cell_type": "code",
      "source": [
        "tuned_rf = RandomForestClassifier (n_estimators = 100, min_samples_split = 5, min_samples_leaf = 3, max_features = 'auto',  max_depth = 26, bootstrap = True, random_state=42)\n",
        "tuned_cv = cross_validate (tuned_rf, X_train, y_train, cv = 10)\n",
        "print(\"Accuracy score: \", tuned_cv['test_score'])\n",
        "print(\"Accuracy mean score of CV: \", tuned_cv['test_score'].mean())"
      ],
      "metadata": {
        "id": "a9feWykkHPYJ"
      },
      "execution_count": null,
      "outputs": []
    },
    {
      "cell_type": "code",
      "source": [
        "# Fitting the model into test set\n",
        "tuned_rf.fit(X_train, y_train)"
      ],
      "metadata": {
        "id": "jDEoQxD3ExBL"
      },
      "execution_count": null,
      "outputs": []
    },
    {
      "cell_type": "code",
      "source": [
        "#Prediction on test set using model\n",
        "pred = tuned_rf.predict(X_test)\n",
        "#probability of classes in the test set observation\n",
        "pred_prob = tuned_rf.predict_proba (X_test)\n",
        "print ('class_0','\\t', 'class_1')\n",
        "print(pred_prob[:5])"
      ],
      "metadata": {
        "id": "U4GXG2F9ExD7"
      },
      "execution_count": null,
      "outputs": []
    },
    {
      "cell_type": "code",
      "source": [
        "#accuracy scores of test set\n",
        "print('RandomForestClassifier model Accuracy of the selected model in the test set: {:.4f}'.format(tuned_rf.score(X_test, y_test)))"
      ],
      "metadata": {
        "id": "YDpFz_LsExG8"
      },
      "execution_count": null,
      "outputs": []
    },
    {
      "cell_type": "code",
      "source": [
        "#confusion matrix\n",
        "from sklearn.metrics import confusion_matrix\n",
        "conf_matrix = confusion_matrix(y_test, pred )\n",
        "sns.heatmap(conf_matrix, annot = True)\n",
        "plyt.xlabel ('predicted values')\n",
        "plyt.ylabel ('actual values')"
      ],
      "metadata": {
        "id": "jGvW9ePvExJY"
      },
      "execution_count": null,
      "outputs": []
    },
    {
      "cell_type": "code",
      "source": [
        "from sklearn.metrics import roc_curve, roc_auc_score\n",
        "pred_prob_c1 = pred_prob[:,1]\n",
        "fpr, tpr, threshold = roc_curve (y_test,pred_prob_c1, pos_label = 1)\n",
        "roc_auc_score = roc_auc_score (y_test,pred_prob_c1)\n",
        "print(\"Roc AUC Score : \",round(roc_auc_score,2))"
      ],
      "metadata": {
        "id": "vktykgcFExMm"
      },
      "execution_count": null,
      "outputs": []
    },
    {
      "cell_type": "code",
      "source": [
        "plyt.subplots(figsize = (20,5))\n",
        "plyt.plot( fpr, tpr, label='Test AUC: %0.2f'%roc_auc_score)\n",
        "plyt.plot([0,1], '--')\n",
        "plyt.xlabel('False Positive Rate')\n",
        "plyt.ylabel('RandomForestClassifier model True Positive Rate')\n",
        "plyt.title (\"RandomForestClassifier model ROC Curve (AUC = {:.2f})\".format(roc_auc_score))\n",
        "plyt.grid()\n",
        "plyt.show();"
      ],
      "metadata": {
        "id": "O7-XBjAyHhEj"
      },
      "execution_count": null,
      "outputs": []
    },
    {
      "cell_type": "code",
      "source": [
        ""
      ],
      "metadata": {
        "id": "XgDpdlFHHhH0"
      },
      "execution_count": null,
      "outputs": []
    }
  ]
}